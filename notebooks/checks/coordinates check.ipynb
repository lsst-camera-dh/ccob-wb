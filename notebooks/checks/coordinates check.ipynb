{
 "cells": [
  {
   "cell_type": "markdown",
   "metadata": {},
   "source": [
    "## Using the branch \"tickets/DM-19256\"\n",
    "\n",
    "obs_lsst         LOCAL:/home/combet/repos/obs_lsst            setup"
   ]
  },
  {
   "cell_type": "code",
   "execution_count": 1,
   "metadata": {},
   "outputs": [],
   "source": [
    "from lsst.obs.lsst.cameraTransforms import LsstCameraTransforms\n",
    "from lsst.obs.lsst import LsstCamMapper as camMapper\n",
    "%matplotlib ipympl"
   ]
  },
  {
   "cell_type": "code",
   "execution_count": 2,
   "metadata": {},
   "outputs": [],
   "source": [
    "raft = 'R22'\n",
    "sensor = 'S11'\n",
    "ccdid = raft + '_' + sensor"
   ]
  },
  {
   "cell_type": "code",
   "execution_count": 3,
   "metadata": {},
   "outputs": [],
   "source": [
    "camera = camMapper._makeCamera()\n",
    "lct = LsstCameraTransforms(camera)"
   ]
  },
  {
   "cell_type": "code",
   "execution_count": 4,
   "metadata": {},
   "outputs": [
    {
     "data": {
      "text/plain": [
       "'ITL-3800C-017-Dev'"
      ]
     },
     "execution_count": 4,
     "metadata": {},
     "output_type": "execute_result"
    }
   ],
   "source": [
    "det = lct.getDetector(ccdid)\n",
    "det.getSerial()"
   ]
  },
  {
   "cell_type": "markdown",
   "metadata": {},
   "source": [
    "#### Expected result below is `(1,508,0)`"
   ]
  },
  {
   "cell_type": "code",
   "execution_count": 5,
   "metadata": {},
   "outputs": [
    {
     "data": {
      "text/plain": [
       "(1, 508, 0)"
      ]
     },
     "execution_count": 5,
     "metadata": {},
     "output_type": "execute_result"
    }
   ],
   "source": [
    "cx, cy = 0,0\n",
    "lct.ccdPixelToAmpPixel(cx,cy,ccdid)"
   ]
  },
  {
   "cell_type": "code",
   "execution_count": 6,
   "metadata": {},
   "outputs": [
    {
     "data": {
      "text/plain": [
       "(2, 508, 0)"
      ]
     },
     "execution_count": 6,
     "metadata": {},
     "output_type": "execute_result"
    }
   ],
   "source": [
    "lct.ccdPixelToAmpPixel(509,0,ccdid)"
   ]
  },
  {
   "cell_type": "markdown",
   "metadata": {},
   "source": [
    "#### Expected result below is `(0,0)`"
   ]
  },
  {
   "cell_type": "code",
   "execution_count": 8,
   "metadata": {},
   "outputs": [
    {
     "data": {
      "text/plain": [
       "Point2I(0, 0)"
      ]
     },
     "execution_count": 8,
     "metadata": {},
     "output_type": "execute_result"
    }
   ],
   "source": [
    "lct.ampPixelToCcdPixel(508,0,1,ccdid)"
   ]
  },
  {
   "cell_type": "markdown",
   "metadata": {},
   "source": [
    "#### Expected result below is `(4071,3999)`"
   ]
  },
  {
   "cell_type": "code",
   "execution_count": 9,
   "metadata": {},
   "outputs": [
    {
     "data": {
      "text/plain": [
       "Point2I(4071, 3999)"
      ]
     },
     "execution_count": 9,
     "metadata": {},
     "output_type": "execute_result"
    }
   ],
   "source": [
    "lct.ampPixelToCcdPixel(0,0,9, ccdid)"
   ]
  },
  {
   "cell_type": "markdown",
   "metadata": {},
   "source": [
    "#### Expected result below is `ampX: 2 -> 2 ampY: 0 -> 0 channel:, 1 -> 1`"
   ]
  },
  {
   "cell_type": "code",
   "execution_count": 10,
   "metadata": {},
   "outputs": [
    {
     "name": "stdout",
     "output_type": "stream",
     "text": [
      "ampX: 2 -> 2 ampY: 0 -> 0 channel:, 1 -> 1\n"
     ]
    }
   ],
   "source": [
    "ampX, ampY, channel = 2,0,1\n",
    "cx, cy = lct.ampPixelToCcdPixel(ampX, ampY, channel, ccdid)\n",
    "finalChannel, finalAmpX, finalAmpY = lct.ccdPixelToAmpPixel(cx, cy, ccdid)\n",
    "print('ampX:',ampX,'->', finalAmpX,'ampY:',ampY,'->', finalAmpY,'channel:,',channel,'->', finalChannel)"
   ]
  },
  {
   "cell_type": "code",
   "execution_count": 11,
   "metadata": {},
   "outputs": [
    {
     "data": {
      "text/plain": [
       "('R22_S11', 2035.5, 1999.5)"
      ]
     },
     "execution_count": 11,
     "metadata": {},
     "output_type": "execute_result"
    }
   ],
   "source": [
    "lct.focalMmToCcdPixel(0,0)"
   ]
  },
  {
   "cell_type": "markdown",
   "metadata": {},
   "source": [
    "#### Expected result below should one point in each quadrant"
   ]
  },
  {
   "cell_type": "code",
   "execution_count": 12,
   "metadata": {},
   "outputs": [
    {
     "name": "stdout",
     "output_type": "stream",
     "text": [
      "(0.005, -0.005)\n",
      "(-0.005, -0.005)\n",
      "(-0.005, 0.005)\n",
      "(0.005, 0.005)\n"
     ]
    }
   ],
   "source": [
    "print(lct.ampPixelToFocalMm(508,1999,5, ccdid))\n",
    "print(lct.ampPixelToFocalMm(0,1999,4, ccdid))\n",
    "print(lct.ampPixelToFocalMm(0,1999,13, ccdid))\n",
    "print(lct.ampPixelToFocalMm(508,1999,12, ccdid))"
   ]
  },
  {
   "cell_type": "code",
   "execution_count": 13,
   "metadata": {},
   "outputs": [
    {
     "name": "stdout",
     "output_type": "stream",
     "text": [
      "(-0.005, -0.005)\n",
      "(0.005, -0.005)\n",
      "(-0.005, 0.005)\n",
      "(0.005, 0.005)\n"
     ]
    }
   ],
   "source": [
    "print(lct.ccdPixelToFocalMm(2035,1999,ccdid))\n",
    "print(lct.ccdPixelToFocalMm(2036,1999,ccdid))\n",
    "print(lct.ccdPixelToFocalMm(2035,2000,ccdid))\n",
    "print(lct.ccdPixelToFocalMm(2036,2000,ccdid))"
   ]
  },
  {
   "cell_type": "code",
   "execution_count": null,
   "metadata": {},
   "outputs": [],
   "source": []
  }
 ],
 "metadata": {
  "kernelspec": {
   "display_name": "Python 3",
   "language": "python",
   "name": "python3"
  },
  "language_info": {
   "codemirror_mode": {
    "name": "ipython",
    "version": 3
   },
   "file_extension": ".py",
   "mimetype": "text/x-python",
   "name": "python",
   "nbconvert_exporter": "python",
   "pygments_lexer": "ipython3",
   "version": "3.7.2"
  }
 },
 "nbformat": 4,
 "nbformat_minor": 2
}
