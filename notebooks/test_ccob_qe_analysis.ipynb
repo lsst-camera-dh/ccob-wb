{
 "cells": [
  {
   "cell_type": "code",
   "execution_count": 1,
   "metadata": {},
   "outputs": [],
   "source": [
    "import sys\n",
    "sys.path.insert(0, '../')\n",
    "import ccob_qe_analysis_BOT as ana\n",
    "import matplotlib.pyplot as plt\n",
    "%load_ext autoreload\n",
    "%autoreload 2\n",
    "import numpy as np\n",
    "from lsst.obs.lsst.cameraTransforms import LsstCameraTransforms\n",
    "from lsst.obs.lsst import LsstCamMapper as camMapper"
   ]
  },
  {
   "cell_type": "code",
   "execution_count": 3,
   "metadata": {},
   "outputs": [
    {
     "name": "stdout",
     "output_type": "stream",
     "text": [
      "Averaging the following files:\n",
      "\n",
      "['/gpfs/slac/lsst/fs3/g/data/jobHarness/jh_stage-test/LCA-10134_Cryostat/LCA-10134_Cryostat-0001/6852D/BOT_acq/v0/48113/ccob_nm960_-159.175_-32.325_006/MC_C_20191028_005273_R12_S00.fits']\n",
      "3.1496989966555202 14.95983277591975 37.81030100334448 25.080167224080252\n",
      "40.96 40.040000000000006\n",
      "(4004, 4096)\n",
      "40.040000000000006\n",
      "40.959999999999994\n",
      "Averaging the following files:\n",
      "\n",
      "['/gpfs/slac/lsst/fs3/g/data/jobHarness/jh_stage-test/LCA-10134_Cryostat/LCA-10134_Cryostat-0001/6852D/BOT_acq/v0/48113/ccob_nm960_-159.175_-52.805_000/MC_C_20191028_005267_R12_S00.fits']\n"
     ]
    },
    {
     "name": "stderr",
     "output_type": "stream",
     "text": [
      "../ccob_qe_data.py:86: ResourceWarning: unclosed file <_io.FileIO name='/home/combet/tmp_9rafts/tmp.fits' mode='rb' closefd=True>\n",
      "  mosaic, amp_coord = u.make_ccd_2d_array(tmp_file, gains=self.gains, biasfile=self.biasfile)\n"
     ]
    },
    {
     "name": "stdout",
     "output_type": "stream",
     "text": [
      "23.629698996655517 14.95983277591975 17.330301003344484 25.080167224080252\n",
      "40.96 40.040000000000006\n",
      "(4004, 4096)\n",
      "40.040000000000006\n",
      "40.96\n",
      "Averaging the following files:\n",
      "\n",
      "['/gpfs/slac/lsst/fs3/g/data/jobHarness/jh_stage-test/LCA-10134_Cryostat/LCA-10134_Cryostat-0001/6852D/BOT_acq/v0/48113/ccob_nm960_-169.185_-42.565_012/MC_C_20191028_005279_R12_S00.fits']\n"
     ]
    },
    {
     "name": "stderr",
     "output_type": "stream",
     "text": [
      "../ccob_qe_data.py:86: ResourceWarning: unclosed file <_io.FileIO name='/home/combet/tmp_9rafts/tmp.fits' mode='rb' closefd=True>\n",
      "  mosaic, amp_coord = u.make_ccd_2d_array(tmp_file, gains=self.gains, biasfile=self.biasfile)\n"
     ]
    },
    {
     "name": "stdout",
     "output_type": "stream",
     "text": [
      "13.389698996655516 24.96983277591973 27.570301003344486 15.070167224080269\n",
      "40.96 40.04\n",
      "(4004, 4096)\n",
      "40.04\n",
      "40.96000000000001\n",
      "Averaging the following files:\n",
      "\n",
      "['/gpfs/slac/lsst/fs3/g/data/jobHarness/jh_stage-test/LCA-10134_Cryostat/LCA-10134_Cryostat-0001/6852D/BOT_acq/v0/48113/ccob_nm960_-179.195_-32.325_024/MC_C_20191028_005291_R12_S00.fits']\n"
     ]
    },
    {
     "name": "stderr",
     "output_type": "stream",
     "text": [
      "../ccob_qe_data.py:86: ResourceWarning: unclosed file <_io.FileIO name='/home/combet/tmp_9rafts/tmp.fits' mode='rb' closefd=True>\n",
      "  mosaic, amp_coord = u.make_ccd_2d_array(tmp_file, gains=self.gains, biasfile=self.biasfile)\n"
     ]
    },
    {
     "name": "stdout",
     "output_type": "stream",
     "text": [
      "3.1496989966555202 34.97983277591973 37.81030100334448 5.060167224080269\n",
      "40.96 40.04\n",
      "(4004, 4096)\n",
      "40.04\n",
      "40.959999999999994\n",
      "Averaging the following files:\n",
      "\n",
      "['/gpfs/slac/lsst/fs3/g/data/jobHarness/jh_stage-test/LCA-10134_Cryostat/LCA-10134_Cryostat-0001/6852D/BOT_acq/v0/48113/ccob_nm960_-179.195_-52.805_018/MC_C_20191028_005285_R12_S00.fits']\n"
     ]
    },
    {
     "name": "stderr",
     "output_type": "stream",
     "text": [
      "../ccob_qe_data.py:86: ResourceWarning: unclosed file <_io.FileIO name='/home/combet/tmp_9rafts/tmp.fits' mode='rb' closefd=True>\n",
      "  mosaic, amp_coord = u.make_ccd_2d_array(tmp_file, gains=self.gains, biasfile=self.biasfile)\n"
     ]
    },
    {
     "name": "stdout",
     "output_type": "stream",
     "text": [
      "23.629698996655517 34.97983277591973 17.330301003344484 5.060167224080269\n",
      "40.96 40.04\n",
      "(4004, 4096)\n",
      "40.04\n",
      "40.96\n"
     ]
    }
   ],
   "source": [
    "camera = camMapper._makeCamera()\n",
    "lct = LsstCameraTransforms(camera)\n",
    "basedir1 = '/gpfs/slac/lsst/fs3/g/data/jobHarness/jh_stage-test/LCA-10134_Cryostat/LCA-10134_Cryostat-0001/'\n",
    "basedir2 = '/gpfs/slac/lsst/fs3/g/data/jobHarness/jh_stage/LCA-10134_Cryostat/LCA-10134_Cryostat-0001/'\n",
    "\n",
    "path_to_data = {'R01': basedir1 + '6848D/BOT_acq/v0/48087/',\n",
    "                'R02': basedir1 + '6849D/BOT_acq/v0/48093/',\n",
    "                'R10': None,\n",
    "                'R11': basedir1 + '6851D/BOT_acq/v0/48108/',\n",
    "                'R12': basedir1 + '6852D/BOT_acq/v0/48113/',\n",
    "                'R20': basedir1 + '6853D/BOT_acq/v0/48118/',\n",
    "                'R21': None,\n",
    "                'R22': basedir2 + '11974/BOT_acq/v0/93868/',\n",
    "                'R30': basedir1 + '6843D/BOT_acq/v0/48047/'\n",
    "               }\n",
    "path_to_beam = '/home/combet/tmp_9rafts/60x60/'\n",
    "outdir_figs = '/home/combet/tmp_9rafts/QE_results/'\n",
    "outdir_fits = '/gpfs/slac/lsst/fs1/u/combet/DATA/CCOB_QE/'\n",
    "led_beam = 'nm960'\n",
    "led = 'nm960'\n",
    "\n",
    "model_ccdid = 'R22_S11'\n",
    "beam_model = ana.load_beam_model(path_to_beam, led_name=led_beam, ref_amp=5, ccdid=model_ccdid)\n",
    "delta_x, delta_y = ana.compute_offsets(beam_model, lct, ccdid=model_ccdid, ref_pix_x=2304, ref_pix_y=3003)\n",
    "\n",
    "raft_list = ['R12','R20', 'R22','R30']\n",
    "#raft_list = ['R01','R02','R11','R12','R20', 'R22','R30']\n",
    "#raft_list = ['R30']\n",
    "sensor_list = ['S00','S01','S02','S10','S11','S12','S20','S21','S22']\n",
    "#sensor_list = ['S21','S22']\n",
    "\n",
    "ccdid_list = sorted([raft+'_'+sensor for sensor in sensor_list for raft in raft_list])\n",
    "\n",
    "for data_ccdid in ccdid_list[0:1]:\n",
    "    gainfile = '/gpfs/slac/lsst/fs3/g/data/jobHarness/jh_stage-test/LCA-10134_Cryostat/LCA-10134_Cryostat-0001/6801D/fe55_analysis_BOT/v0/47706/'+data_ccdid+'_6801D_eotest_results.fits'\n",
    "\n",
    "    raft = data_ccdid.split('_')[0]\n",
    "    data = ana.qe_data.CcobQeData(data_ccdid, led, path_to_data[raft], gainfile, biasfile=None)\n",
    "    data.find_dir()\n",
    "    \n",
    "    for pos in data.pos_list:\n",
    "        data.make_avg_mosaic_at_pos(pos, '/home/combet/tmp_9rafts/')\n",
    "        mosaic = data.data[pos]['mosaic']\n",
    "        bbox = ana.define_model_bbox(beam_model, mosaic, data.lct, pos, delta_x, delta_y)\n",
    "\n",
    "        xarr = np.linspace(bbox[0],bbox[1],mosaic.shape[0])\n",
    "        yarr = np.linspace(bbox[2],bbox[3],mosaic.shape[1])\n",
    "        tmp = beam_model.beam_image['f_interp'](xarr, yarr) # interp works in cam coordinates\n",
    "        tmp = np.flip(np.flip(tmp,axis=0),axis=1) # invert the model in x and in y \n",
    "        model_eotestDef = np.flip(tmp.T, axis=1) # beam model following EOTest convention\n",
    "        model_normalised = model_eotestDef/np.max(model_eotestDef.flatten())\n",
    "        qe = mosaic/model_normalised\n",
    "#        qe = mosaic/model_eotestDef\n",
    "        qe_norm = qe / np.mean(qe.flatten())\n",
    "\n",
    "        outfile = outdir_fits+'fits/QE_'+data_ccdid+'_'+led+'_'+pos+'.fits'\n",
    "        amp_coord = data.data[pos]['amp_coord']\n",
    "        ana.make_fits(qe,amp_coord, outfile, data.template_file)\n",
    "\n",
    "#        figfile = outdir_figs+'figs/QE_'+data_ccdid+'_'+led+'_'+pos+'_from_'+led_beam+'_norm.png'\n",
    "        figfile = outdir_figs+'figs/QE_'+data_ccdid+'_'+led+'_'+pos+'_norm.png'\n",
    "        ana.plot_results(qe_norm, model_normalised, mosaic, data_ccdid, data.lct, pos, delta_x, delta_y,figfile)\n",
    "\n"
   ]
  },
  {
   "cell_type": "code",
   "execution_count": 5,
   "metadata": {},
   "outputs": [
    {
     "data": {
      "text/plain": [
       "array(['/gpfs/slac/lsst/fs3/g/data/jobHarness/jh_stage-test/LCA-10134_Cryostat/LCA-10134_Cryostat-0001/6852D/BOT_acq/v0/48113/ccob_nm960_-159.175_-32.325_006',\n",
       "       '/gpfs/slac/lsst/fs3/g/data/jobHarness/jh_stage-test/LCA-10134_Cryostat/LCA-10134_Cryostat-0001/6852D/BOT_acq/v0/48113/ccob_nm960_-159.175_-52.805_000',\n",
       "       '/gpfs/slac/lsst/fs3/g/data/jobHarness/jh_stage-test/LCA-10134_Cryostat/LCA-10134_Cryostat-0001/6852D/BOT_acq/v0/48113/ccob_nm960_-169.185_-42.565_012',\n",
       "       '/gpfs/slac/lsst/fs3/g/data/jobHarness/jh_stage-test/LCA-10134_Cryostat/LCA-10134_Cryostat-0001/6852D/BOT_acq/v0/48113/ccob_nm960_-179.195_-32.325_024',\n",
       "       '/gpfs/slac/lsst/fs3/g/data/jobHarness/jh_stage-test/LCA-10134_Cryostat/LCA-10134_Cryostat-0001/6852D/BOT_acq/v0/48113/ccob_nm960_-179.195_-52.805_018'],\n",
       "      dtype='<U149')"
      ]
     },
     "execution_count": 5,
     "metadata": {},
     "output_type": "execute_result"
    }
   ],
   "source": [
    "data.dir_list"
   ]
  },
  {
   "cell_type": "code",
   "execution_count": null,
   "metadata": {},
   "outputs": [],
   "source": [
    "import lsst.eotest.sensor as sensorTest\n",
    "import lsst.eotest.raft as eotest_raft\n",
    "import lsst.eotest.image_utils as imutils\n",
    "from lsst.eotest.sensor.EOTestPlots import cmap_range\n",
    "import numpy as np\n",
    "import glob\n",
    "import matplotlib.pyplot as plt\n",
    "import matplotlib"
   ]
  },
  {
   "cell_type": "code",
   "execution_count": null,
   "metadata": {},
   "outputs": [],
   "source": [
    "def plot(dd, title=None, cmap=plt.cm.hot, nsig=5, figsize=(10, 10),\n",
    "             binsize=10, flipx=True, textcolor='c', annotation='',\n",
    "             rotate180=False):\n",
    "        \"\"\"\n",
    "        Render the raft mosaic.\n",
    "        Parameters\n",
    "        ----------\n",
    "        title : str, optional\n",
    "            The plot title. If None (default), then build the title\n",
    "            from the RAFTNAME and MONOWL primary header keyword values.\n",
    "        cmap : matplotlib.colors.Colormap, optional\n",
    "            The color map to use. Default: matplotlib.pyplot.cm.hot.\n",
    "        nsig : float, optional\n",
    "            The n-sigma value for the sigma clipping used to determine\n",
    "            the pixel value range over which the color map is mapped.\n",
    "        figsize : (float, float), optional\n",
    "            The width x height size of the figure in inches. Default: (10, 10).\n",
    "        binsize : int, optional\n",
    "            Rebin the plotted image data by binsize*binsize,\n",
    "            averging over the coarser bin.  Default: 10\n",
    "        flipx : bool, optional\n",
    "            Flip full raft mosaic in x so that parity of image matches\n",
    "            LCA-13381. Default: True\n",
    "        textcolor : str, optional\n",
    "            Color of the text for the segment and sensor labeling.\n",
    "            Default: 'c' (cyan)\n",
    "        annotation : str, optional\n",
    "            Description of the plot, e.g., pixel units (ADU or e-),\n",
    "            gain-corrected, bias-subtracted.  Default: ''\n",
    "        rotate180 : bool [False]\n",
    "            Flag to rotate the mosaic by 180 degrees to match the\n",
    "            orientation of the focalplane mosiacs created for the\n",
    "            BOT-level plots.\n",
    "        \"\"\"\n",
    "        plt.rcParams['figure.figsize'] = figsize\n",
    "        fig = plt.figure()\n",
    "        ax = fig.add_subplot(1, 1, 1)\n",
    "        output_array = imutils.rebin_array(dd.image_array, binsize,\n",
    "                                           use_mean=True)\n",
    "        if flipx:\n",
    "            output_array = output_array[:, ::-1]\n",
    "        if rotate180:\n",
    "            ny, nx = output_array.shape\n",
    "            rotated_array = np.zeros((nx, ny), dtype=output_array.dtype)\n",
    "            for j in range(ny):\n",
    "                rotated_array[:, ny-1-j] = output_array[::-1, j]\n",
    "            output_array = rotated_array\n",
    "        image = ax.imshow(output_array, interpolation='nearest', cmap=cmap)\n",
    "        # Set range and normalization of color map based on sigma-clip\n",
    "        # of pixel values.\n",
    "        vmin, vmax = cmap_range(output_array, nsig=nsig)\n",
    "        norm = matplotlib.colors.Normalize(vmin=vmin, vmax=vmax)\n",
    "        image.set_norm(norm)\n",
    "        if title is None:\n",
    "            title = \"%s, %i nm\" % (dd.raft_name, dd.wl)\n",
    "        ax.set_title(title)\n",
    "        fig.colorbar(image)\n",
    "        # Turn off ticks and tick labels for x- and y-axes.\n",
    "        plt.tick_params(axis='both', which='both',\n",
    "                        top='off', bottom='off', left='off', right='off',\n",
    "                        labelbottom='off', labelleft='off')\n",
    "        # Label segments by sensor bay and segment number.\n",
    "        for slot in dd.fits_files:\n",
    "            seg_coords = list(dd._amp_coords[slot].values())[-8]\n",
    "            xmin, xmax, ymin, ymax = seg_coords\n",
    "            xx = float(xmax + xmin)/2./float(dd.nx)\n",
    "            if flipx:\n",
    "                xx = 1 - xx\n",
    "            yy = 1. - (float(ymax - ymin)*0.05 + ymin)/float(dd.ny)\n",
    "            if rotate180:\n",
    "                xx = 1 - xx - 7*np.abs(xmax - xmin)/float(dd.nx)\n",
    "                yy = 1 - yy + 1.9*np.abs(ymax - ymin)/float(dd.ny)\n",
    "            plt.annotate('%s' % slot,\n",
    "                         (xx, yy), xycoords='axes fraction',\n",
    "                         size='x-small', horizontalalignment='center',\n",
    "                         verticalalignment='center', color=textcolor)\n",
    "            for amp, seg_coords in list(dd._amp_coords[slot].items()):\n",
    "                xmin, xmax, ymin, ymax = seg_coords\n",
    "                xx = float(xmax + xmin)/2./float(dd.nx)\n",
    "                if flipx:\n",
    "                    xx = 1. - xx\n",
    "                if amp <= 8:\n",
    "                    yy = 1. - (float(ymax - ymin)*0.85 + ymin)/float(dd.ny)\n",
    "                else:\n",
    "                    yy = 1. - (float(ymax - ymin)*0.15 + ymin)/float(dd.ny)\n",
    "                if rotate180:\n",
    "                    xx = 1 - xx\n",
    "                    yy = 1 - yy\n",
    "                plt.annotate('%s' % imutils.channelIds[amp],\n",
    "                             (xx, yy), xycoords='axes fraction',\n",
    "                             size='x-small', horizontalalignment='center',\n",
    "                             verticalalignment='center', color=textcolor)\n",
    "        plt.annotate(annotation, (1, -0.1), xycoords='axes fraction',\n",
    "                     horizontalalignment='right', verticalalignment='bottom')\n",
    "        return fig"
   ]
  },
  {
   "cell_type": "code",
   "execution_count": null,
   "metadata": {},
   "outputs": [],
   "source": [
    "raft = 'R22'\n",
    "slot_names=['S00','S01','S02','S10','S11','S12','S20','S21','S22']\n",
    "led = 'blue'\n",
    "#slot = slot_names[0]\n",
    "#sorted(glob.glob(f'/gpfs/slac/lsst/fs1/u/combet/DATA/CCOB_QE/fits/QE_{raft}_{slot}_{led}*'))[2]\n",
    "#[(glob.glob(f'/gpfs/slac/lsst/fs1/u/combet/DATA/CCOB_QE/fits/QE_{raft}_{slot}_{led}*')[2])[0] for slot in slot_names]\n",
    "fits_files_dict ={slot : sorted(glob.glob(f'/gpfs/slac/lsst/fs1/u/combet/DATA/CCOB_QE/fits/QE_{raft}_{slot}_{led}*'))[2] for slot in slot_names}\n",
    "fits_files_dict"
   ]
  },
  {
   "cell_type": "code",
   "execution_count": null,
   "metadata": {},
   "outputs": [],
   "source": [
    "dd = eotest_raft.RaftMosaic(fits_files_dict)"
   ]
  },
  {
   "cell_type": "code",
   "execution_count": null,
   "metadata": {},
   "outputs": [],
   "source": [
    "raft_name = dd.raft_name.split('_')[1]"
   ]
  },
  {
   "cell_type": "code",
   "execution_count": null,
   "metadata": {},
   "outputs": [],
   "source": [
    "tmp = plot(dd,rotate180=True, nsig=4, title=f'CCOB composite flat - {led} - {raft} ({raft_name})')"
   ]
  },
  {
   "cell_type": "code",
   "execution_count": null,
   "metadata": {},
   "outputs": [],
   "source": [
    "outdir_figs = '/home/combet/tmp_9rafts/QE_results/figs/'\n",
    "tmp.savefig(outdir_figs+f'{raft}_flat_{led}.png')"
   ]
  },
  {
   "cell_type": "code",
   "execution_count": 6,
   "metadata": {},
   "outputs": [],
   "source": [
    "from astropy.io import fits as fits"
   ]
  },
  {
   "cell_type": "code",
   "execution_count": 7,
   "metadata": {},
   "outputs": [],
   "source": [
    "hdu = fits.open('/gpfs/slac/lsst/fs1/u/combet/DATA/CCOB_QE/fits/QE_R02_S00_blue_-286.285_-32.685.fits')"
   ]
  },
  {
   "cell_type": "code",
   "execution_count": 12,
   "metadata": {},
   "outputs": [
    {
     "data": {
      "text/plain": [
       "SIMPLE  =                    T / Java FITS: Mon Oct 28 17:54:09 PDT 2019        \n",
       "BITPIX  =                    8 / bits per data value                            \n",
       "NAXIS   =                    0 / number of axes                                 \n",
       "EXTEND  =                    T / Extensions are permitted                       \n",
       "DATE    = '2019-10-29T02:27:48.545' / Creation Date and Time of File            \n",
       "DATE-OBS= '2019-10-29T02:27:46.151' / Date of the image trigger (readout), UTC f\n",
       "MJD     =    58785.10264519695 / Modified Julian Date that the file was written \n",
       "MJD-OBS =    58785.10261748824 / Modified Julian Date of image trigger          \n",
       "RUNNUM  = '6852D   '           / The Run Number                                 \n",
       "IMAGETAG= 'd9b96a33ead3fba4'   / DAQ Image id (Hex)                             \n",
       "TSTAND  = 'BOT     '           / Camera test stand BOT or CCOB                  \n",
       "INSTRUME= 'lsstCam '           / Instrument                                     \n",
       "CONTNUM = '18ee34d8'           / REB serial # (Hex)                             \n",
       "SEQFILE = 'FP_E2V_2s_ir2_v2.seq' / Sequencer file name                          \n",
       "CCDSLOT = 'S00     '           / The CCD Slot                                   \n",
       "RAFTBAY = 'R12     '           / The RAFT Bay                                   \n",
       "LSST_NUM= 'E2V-CCD250-136'     / LSST Assigned CCD Number                       \n",
       "RAFTNAME= 'LCA-11021_RTM-009'  / LSST Assigned Raft name                        \n",
       "TESTTYPE= 'CCOB    '           / DARK:FLAT:OBS:PPUMP:QE:SFLAT                   \n",
       "IMGTYPE = 'CCOB    '           / BIAS, DARK, ?                                  \n",
       "SEQNUM  =                 5273 / The sequence number from the image name        \n",
       "DETSIZE = '[1:4096,1:4004]'                                                     \n",
       "CCDTEMP =    -98.9331208266221 / Measured temperature (deg C)                   \n",
       "EXPTIME =                 0.32 / Exposure Time in Seconds                       \n",
       "BINX    =                    1 / [pixels] binning along X axis                  \n",
       "BINY    =                    1 / [pixels] binning along Y axis                  \n",
       "HEADVER =                    2 / Version number of header                       \n",
       "CCDGAIN =                  1.0 / Rough guess at overall system gain (e-/DNB)    \n",
       "CCDNOISE=                 10.0 / Rough guess at system noise (e- rms)           \n",
       "DATE-TRG= '2019-10-29T02:27:46.151' / Date of the image trigger (readout), UTC f\n",
       "MJD-TRG =    58785.10261748824 / Modified Julian Date of image trigger          \n",
       "FIRMWARE= '31345004'           / DAQ firmware version (Hex)                     \n",
       "PLATFORM= 'ir2-camera'         / DAQ platform version                           \n",
       "DAQVERS = 'R4-V2.7 2019-10-25T19:27:48Z (52b5939b)' / DAQ version               \n",
       "DAQPART = 'camera  '           / DAQ partition                                  \n",
       "DAQFOLD = 'raw     '           / DAQ folder the image was initially created in  \n",
       "DAQANNOT= '        '           / DAQ image annotation                           \n",
       "OBSID   = 'MC_C_20191028_005273' / The image name or obs-id                     \n",
       "TELCODE = 'MC      '           / The \"code\" for MainCamera                      \n",
       "CONTRLLR= 'C       '           / The controller (e.g. O for OCS, C for CCS)     \n",
       "DAYOBS  = '20191028'          / The observation day as defined in the image name\n",
       "TELESCOP= 'LSST    '           / Telescope                                      \n",
       "SEQCKSUM= '3510424385'         / Checksum of Sequencer                          \n",
       "DARKTIME=                0.447 / Dark Time in Seconds (see TSEIA-91)            \n",
       "TSEQNUM =                    6 / Sequence number within current test            \n",
       "TEMPLED1=   19.972703282929896 / CCOB daughter board temperature, front         \n",
       "TEMPLED2=    19.21670849987878 / CCOB daughter board temperature, back          \n",
       "TEMPSPH =    18.49209698381525 / CCOB sphere temperature                        \n",
       "TEMPBRD =   33.351354449114126 / CCOB board temperature                         \n",
       "CCOBLED = 'nm960   '           / Selected CCOB LED                              \n",
       "CCOBCURR=                 0.01 / CCOB LED current                               \n",
       "CCOBADC =    0.502070160982681 / CCOB Photodiode value (after exposure)         \n",
       "BOTXCAM = -159.1828601417542 / X position of lamp/source in camera coordinate sy\n",
       "BOTYCAM = -32.32498171768185 / Y position of lamp/source in camera coordinate sy\n",
       "BOTX    =    564.1828601417542 / X position of BOT in raw bot coordinates       \n",
       "BOTY    =    432.3249817176819 / Y position of BOT in raw bot coordinates       \n",
       "CHECKSUM= 'OAbWP7aUOAaUO7aU'   / checksum for the current HDU                   \n",
       "DATASUM = '0       '           / checksum of the data records                   "
      ]
     },
     "execution_count": 12,
     "metadata": {},
     "output_type": "execute_result"
    }
   ],
   "source": [
    "hdu[0].header"
   ]
  },
  {
   "cell_type": "code",
   "execution_count": 3,
   "metadata": {},
   "outputs": [],
   "source": [
    "import ccob_utils as u\n",
    "f1 = '/gpfs/slac/lsst/fs1/u/combet/DATA/CCOB_QE/fits/QE_R22_S11_red_0.005_0.005.fits'\n",
    "im, dum = u.make_ccd_2d_array(f1)"
   ]
  },
  {
   "cell_type": "code",
   "execution_count": null,
   "metadata": {},
   "outputs": [],
   "source": [
    "f2 = '/gpfs/slac/lsst/fs1/u/combet/DATA/CCOB_QE/fits/QE_R22_S11_red_10.015_-10.235.fits'\n",
    "im2, dum = u.make_ccd_2d_array(f2)"
   ]
  },
  {
   "cell_type": "code",
   "execution_count": null,
   "metadata": {},
   "outputs": [],
   "source": [
    "import scipy\n",
    "#residuals = (im-im2)*100/im\n",
    "residuals = scipy.ndimage.filters.gaussian_filter((im-im2)/im, 1, mode='constant')\n",
    "plt.imshow(residuals, vmin=-0.002, vmax=0.002)\n",
    "plt.colorbar()"
   ]
  },
  {
   "cell_type": "code",
   "execution_count": 9,
   "metadata": {},
   "outputs": [],
   "source": [
    "f = '/gpfs/slac/lsst/fs3/g/data/jobHarness/jh_stage-test/LCA-10134_Cryostat/LCA-10134_Cryostat-0001/6852D/BOT_acq/v0/48113/ccob_nm960_-159.175_-32.325_006/MC_C_20191028_005273_R12_S00.fits'\n",
    "\n",
    "hdu = fits.open(f)"
   ]
  },
  {
   "cell_type": "code",
   "execution_count": 10,
   "metadata": {},
   "outputs": [
    {
     "data": {
      "text/plain": [
       "SIMPLE  =                    T / Java FITS: Mon Oct 28 17:54:09 PDT 2019        \n",
       "BITPIX  =                    8 / bits per data value                            \n",
       "NAXIS   =                    0 / number of axes                                 \n",
       "EXTEND  =                    T / Extensions are permitted                       \n",
       "DATE    = '2019-10-29T02:27:48.545' / Creation Date and Time of File            \n",
       "DATE-OBS= '2019-10-29T02:27:46.151' / Date of the image trigger (readout), UTC f\n",
       "MJD     =    58785.10264519695 / Modified Julian Date that the file was written \n",
       "MJD-OBS =    58785.10261748824 / Modified Julian Date of image trigger          \n",
       "RUNNUM  = '6852D   '           / The Run Number                                 \n",
       "IMAGETAG= 'd9b96a33ead3fba4'   / DAQ Image id (Hex)                             \n",
       "TSTAND  = 'BOT     '           / Camera test stand BOT or CCOB                  \n",
       "INSTRUME= 'lsstCam '           / Instrument                                     \n",
       "CONTNUM = '18ee34d8'           / REB serial # (Hex)                             \n",
       "SEQFILE = 'FP_E2V_2s_ir2_v2.seq' / Sequencer file name                          \n",
       "CCDSLOT = 'S00     '           / The CCD Slot                                   \n",
       "RAFTBAY = 'R12     '           / The RAFT Bay                                   \n",
       "LSST_NUM= 'E2V-CCD250-136'     / LSST Assigned CCD Number                       \n",
       "RAFTNAME= 'LCA-11021_RTM-009'  / LSST Assigned Raft name                        \n",
       "TESTTYPE= 'CCOB    '           / DARK:FLAT:OBS:PPUMP:QE:SFLAT                   \n",
       "IMGTYPE = 'CCOB    '           / BIAS, DARK, ?                                  \n",
       "SEQNUM  =                 5273 / The sequence number from the image name        \n",
       "DETSIZE = '[1:4096,1:4004]'                                                     \n",
       "CCDTEMP =    -98.9331208266221 / Measured temperature (deg C)                   \n",
       "EXPTIME =                 0.32 / Exposure Time in Seconds                       \n",
       "BINX    =                    1 / [pixels] binning along X axis                  \n",
       "BINY    =                    1 / [pixels] binning along Y axis                  \n",
       "HEADVER =                    2 / Version number of header                       \n",
       "CCDGAIN =                  1.0 / Rough guess at overall system gain (e-/DNB)    \n",
       "CCDNOISE=                 10.0 / Rough guess at system noise (e- rms)           \n",
       "DATE-TRG= '2019-10-29T02:27:46.151' / Date of the image trigger (readout), UTC f\n",
       "MJD-TRG =    58785.10261748824 / Modified Julian Date of image trigger          \n",
       "FIRMWARE= '31345004'           / DAQ firmware version (Hex)                     \n",
       "PLATFORM= 'ir2-camera'         / DAQ platform version                           \n",
       "DAQVERS = 'R4-V2.7 2019-10-25T19:27:48Z (52b5939b)' / DAQ version               \n",
       "DAQPART = 'camera  '           / DAQ partition                                  \n",
       "DAQFOLD = 'raw     '           / DAQ folder the image was initially created in  \n",
       "DAQANNOT= '        '           / DAQ image annotation                           \n",
       "OBSID   = 'MC_C_20191028_005273' / The image name or obs-id                     \n",
       "TELCODE = 'MC      '           / The \"code\" for MainCamera                      \n",
       "CONTRLLR= 'C       '           / The controller (e.g. O for OCS, C for CCS)     \n",
       "DAYOBS  = '20191028'          / The observation day as defined in the image name\n",
       "TELESCOP= 'LSST    '           / Telescope                                      \n",
       "SEQCKSUM= '3510424385'         / Checksum of Sequencer                          \n",
       "DARKTIME=                0.447 / Dark Time in Seconds (see TSEIA-91)            \n",
       "TSEQNUM =                    6 / Sequence number within current test            \n",
       "TEMPLED1=   19.972703282929896 / CCOB daughter board temperature, front         \n",
       "TEMPLED2=    19.21670849987878 / CCOB daughter board temperature, back          \n",
       "TEMPSPH =    18.49209698381525 / CCOB sphere temperature                        \n",
       "TEMPBRD =   33.351354449114126 / CCOB board temperature                         \n",
       "CCOBLED = 'nm960   '           / Selected CCOB LED                              \n",
       "CCOBCURR=                 0.01 / CCOB LED current                               \n",
       "CCOBADC =    0.502070160982681 / CCOB Photodiode value (after exposure)         \n",
       "BOTXCAM = -159.1828601417542 / X position of lamp/source in camera coordinate sy\n",
       "BOTYCAM = -32.32498171768185 / Y position of lamp/source in camera coordinate sy\n",
       "BOTX    =    564.1828601417542 / X position of BOT in raw bot coordinates       \n",
       "BOTY    =    432.3249817176819 / Y position of BOT in raw bot coordinates       \n",
       "CHECKSUM= 'OAbWP7aUOAaUO7aU'   / checksum for the current HDU                   \n",
       "DATASUM = '0       '           / checksum of the data records                   "
      ]
     },
     "execution_count": 10,
     "metadata": {},
     "output_type": "execute_result"
    }
   ],
   "source": [
    "hdu[0].header"
   ]
  },
  {
   "cell_type": "code",
   "execution_count": null,
   "metadata": {},
   "outputs": [],
   "source": []
  }
 ],
 "metadata": {
  "kernelspec": {
   "display_name": "Python 3",
   "language": "python",
   "name": "python3"
  },
  "language_info": {
   "codemirror_mode": {
    "name": "ipython",
    "version": 3
   },
   "file_extension": ".py",
   "mimetype": "text/x-python",
   "name": "python",
   "nbconvert_exporter": "python",
   "pygments_lexer": "ipython3",
   "version": "3.7.2"
  }
 },
 "nbformat": 4,
 "nbformat_minor": 2
}
