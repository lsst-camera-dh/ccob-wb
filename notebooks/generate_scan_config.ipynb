{
 "cells": [
  {
   "cell_type": "code",
   "execution_count": 5,
   "metadata": {},
   "outputs": [],
   "source": [
    "import numpy as np\n",
    "from lsst.obs.lsst.cameraTransforms import LsstCameraTransforms\n",
    "from lsst.obs.lsst import LsstCamMapper as camMapper"
   ]
  },
  {
   "cell_type": "markdown",
   "metadata": {},
   "source": [
    "# Scan to reconstruct the beam"
   ]
  },
  {
   "cell_type": "code",
   "execution_count": 6,
   "metadata": {},
   "outputs": [
    {
     "name": "stdout",
     "output_type": "stream",
     "text": [
      "E2V-CCD250-382\n"
     ]
    }
   ],
   "source": [
    "raft = 'R22'\n",
    "sensor = 'S11'\n",
    "reb = 'Reb1'\n",
    "ccdid = raft + '_' + sensor\n",
    "camera = camMapper._makeCamera()\n",
    "lct = LsstCameraTransforms(camera)\n",
    "det = lct.getDetector(ccdid)\n",
    "ref_sensor = det.getSerial()\n",
    "print(ref_sensor)"
   ]
  },
  {
   "cell_type": "markdown",
   "metadata": {},
   "source": [
    "### Define the center of the scan as the center of Segment 14 of the central CCD\n",
    "Finding where the center of Segment 14 of the CCD is in focal plane coordinates.\n",
    "Note that (xcam, ycam) = (yfp, xfp) because of the different conventions"
   ]
  },
  {
   "cell_type": "code",
   "execution_count": 7,
   "metadata": {},
   "outputs": [],
   "source": [
    "if 'E2V' in ref_sensor:\n",
    "    ycenter, xcenter = lct.ccdPixelToFocalMm(2304,3003,ccdid) #e2V\n",
    "else:\n",
    "    ycenter, xcenter = lct.ccdPixelToFocalMm(2286,3000,ccdid) #ITL"
   ]
  },
  {
   "cell_type": "code",
   "execution_count": 8,
   "metadata": {},
   "outputs": [
    {
     "data": {
      "text/plain": [
       "(10.015, 2.5649999999999977)"
      ]
     },
     "execution_count": 8,
     "metadata": {},
     "output_type": "execute_result"
    }
   ],
   "source": [
    "xcenter, ycenter"
   ]
  },
  {
   "cell_type": "markdown",
   "metadata": {},
   "source": [
    "### Define the scan parameters: Delta_x, Delta_y, N_x, N_y\n",
    "From now on, working in camera coordinate system"
   ]
  },
  {
   "cell_type": "code",
   "execution_count": 9,
   "metadata": {},
   "outputs": [],
   "source": [
    "Delta_x = 80 # mm\n",
    "Delta_y = 80 # mm\n",
    "N_x = 60\n",
    "N_y = 60"
   ]
  },
  {
   "cell_type": "code",
   "execution_count": 10,
   "metadata": {},
   "outputs": [
    {
     "name": "stdout",
     "output_type": "stream",
     "text": [
      "-29.985 50.015 -37.435 42.565\n"
     ]
    }
   ],
   "source": [
    "xmin = xcenter - Delta_x / 2.\n",
    "xmax = xcenter + Delta_x / 2.\n",
    "ymin = ycenter - Delta_y / 2.\n",
    "ymax = ycenter + Delta_y / 2.\n",
    "print(xmin, xmax, ymin, ymax)"
   ]
  },
  {
   "cell_type": "code",
   "execution_count": 11,
   "metadata": {},
   "outputs": [],
   "source": [
    "xarr = np.linspace(xmin, xmax, N_x)\n",
    "yarr = np.linspace(ymin, ymax, N_y)\n",
    "#print(xarr, yarr)"
   ]
  },
  {
   "cell_type": "code",
   "execution_count": 12,
   "metadata": {},
   "outputs": [],
   "source": [
    "xall = np.repeat(xarr, N_y)\n",
    "yall = np.broadcast_to(yarr, (N_y, N_x)).flatten()"
   ]
  },
  {
   "cell_type": "code",
   "execution_count": 13,
   "metadata": {},
   "outputs": [
    {
     "data": {
      "text/plain": [
       "[('uv', 0.1, 0.03),\n",
       " ('blue', 0.006, 0.08),\n",
       " ('red', 0.009, 0.07),\n",
       " ('nm750', 0.01, 0.13),\n",
       " ('nm850', 0.01, 0.09),\n",
       " ('nm960', 0.01, 0.32)]"
      ]
     },
     "execution_count": 13,
     "metadata": {},
     "output_type": "execute_result"
    }
   ],
   "source": [
    "led = ['uv', 'blue', 'red', 'nm750', 'nm850', 'nm960']\n",
    "current = [0.1, 0.006, 0.009, 0.01, 0.01, 0.01]\n",
    "exp_time_orig = [0.02, 0.05, 0.05, 0.09, 0.06, 0.12]\n",
    "exp_time_corr_factor = [1.33, 1.69, 1.46, 1.4, 1.5, 2.7]\n",
    "exp_time = np.array(exp_time_orig) * np.array(exp_time_corr_factor)\n",
    "led_config = list(zip(led, current, np.around(exp_time,2)))\n",
    "led_config"
   ]
  },
  {
   "cell_type": "code",
   "execution_count": 14,
   "metadata": {},
   "outputs": [
    {
     "data": {
      "text/plain": [
       "'/home/combet/ccob_60x60_R22_S11_nm960.cfg'"
      ]
     },
     "execution_count": 14,
     "metadata": {},
     "output_type": "execute_result"
    }
   ],
   "source": [
    "led_number = 5\n",
    "np.savetxt('tmp.txt', list(zip(xall, yall)),fmt='%.3f', delimiter=('  '))\n",
    "config_filename = '/home/combet/ccob_'+str(N_x)+'x'+str(N_y)+'_'+raft+'_'+sensor+'_'+led[led_number]+'.cfg'\n",
    "\n",
    "#config_filename = '/home/combet/bot-eotest-configs/Run4/step22/with_offsets/ccob_'+str(N_x)+'x'+str(N_y)+'_'+raft+'_'+sensor+'_'+led[led_number]+'.cfg'\n",
    "#config_filename = '/home/combet/bot-eotest-configs/Run4/step22/with_offsets/ccob_'+str(N_x)+'x'+str(N_y)+'_'+raft+'_'+sensor+'_all.cfg'\n",
    "config_filename"
   ]
  },
  {
   "cell_type": "code",
   "execution_count": 15,
   "metadata": {},
   "outputs": [],
   "source": [
    "with open('tmp.txt', 'r') as istr:\n",
    "    with open(config_filename, 'w') as ostr:\n",
    "        print('[ACQUIRE]', file=ostr)\n",
    "        print('bias', file=ostr)\n",
    "        print('ccob', file=ostr)\n",
    "        print('bias\\n', file=ostr)\n",
    "        print('[BIAS]', file=ostr)\n",
    "        print('COUNT=10', file=ostr)\n",
    "        print('LOCATIONS = '+raft+'/'+reb+'\\n', file=ostr)\n",
    "        print('[CCOB]', file=ostr)\n",
    "        print('BCOUNT = 0', file=ostr)\n",
    "        print('IMCOUNT = 1', file=ostr)\n",
    "        print('XOFFSET = 5.0', file=ostr)\n",
    "        print('YOFFSET = -7.0', file=ostr)\n",
    "        print('LOCATIONS = '+raft+'/'+reb+'\\n', file=ostr)\n",
    "#        led_number = 0\n",
    "        print('expose = '+ str(led_config[led_number][0])+' '\n",
    "              + str(led_config[led_number][1])+' '+str(led_config[led_number][2])+'\\n', file=ostr)\n",
    "#         led_number = 1\n",
    "#         print('         '+ str(led_config[led_number][0])+' '\n",
    "#               + str(led_config[led_number][1])+' '+str(led_config[led_number][2])+',', file=ostr)\n",
    "#         led_number = 2\n",
    "#         print('         '+ str(led_config[led_number][0])+' '\n",
    "#               + str(led_config[led_number][1])+' '+str(led_config[led_number][2])+',', file=ostr)\n",
    "#         led_number = 3\n",
    "#         print('         '+ str(led_config[led_number][0])+' '\n",
    "#               + str(led_config[led_number][1])+' '+str(led_config[led_number][2])+',', file=ostr)\n",
    "#         led_number = 4\n",
    "#         print('         '+ str(led_config[led_number][0])+' '\n",
    "#               + str(led_config[led_number][1])+' '+str(led_config[led_number][2])+',', file=ostr)\n",
    "#         led_number = 5\n",
    "#         print('         '+ str(led_config[led_number][0])+' '\n",
    "#               + str(led_config[led_number][1])+' '+str(led_config[led_number][2])+'\\n', file=ostr)\n",
    "        for i,line in enumerate(istr):\n",
    "            if i==0: \n",
    "                line = 'point =  ' + line.rstrip('\\n') + ','\n",
    "            elif i!=len(xall)-1:\n",
    "                line = '         ' + line.rstrip('\\n') + ','\n",
    "            else:\n",
    "                line = '         ' + line.rstrip('\\n')\n",
    "            print(line, file=ostr)"
   ]
  },
  {
   "cell_type": "markdown",
   "metadata": {},
   "source": [
    "# Scan to get the QE data"
   ]
  },
  {
   "cell_type": "code",
   "execution_count": 165,
   "metadata": {},
   "outputs": [],
   "source": [
    "camera = camMapper._makeCamera()\n",
    "lct = LsstCameraTransforms(camera)\n",
    "raft_list = ['R01','R02','R03',\n",
    "             'R10','R11','R12','R13','R14',\n",
    "             'R20','R21','R22','R23','R24',\n",
    "             'R30','R31','R32','R33','R34',\n",
    "             'R41','R42','R43']\n",
    "sensor_list = ['S00','S01','S02','S10','S11','S12','S20','S21','S22']\n",
    "fp_pos_e2v = [(1024,3003),(3072,3003),(2048,2002),(1024,1001),(3072,1001)] \n",
    "fp_pos_itl = [(1018,3000),(3054,3000),(2036,2000),(1018,1000),(3054,1000)] \n",
    "\n",
    "xall=np.zeros((len(raft_list),len(sensor_list)*len(fp_pos_e2v)))\n",
    "yall=np.zeros((len(raft_list),len(sensor_list)*len(fp_pos_e2v)))\n",
    "\n",
    "for i,raft in enumerate(raft_list):\n",
    "    for j,sensor in enumerate(sensor_list):\n",
    "        ccdid = raft + '_' + sensor\n",
    "        det = lct.getDetector(ccdid)\n",
    "        fp_pos = fp_pos_e2v\n",
    "        if 'ITL' in det.getSerial(): fp_pos = fp_pos_itl\n",
    "        for k,pos in enumerate(fp_pos):\n",
    "            ycenter, xcenter = lct.ccdPixelToFocalMm(pos[0],pos[1],ccdid)\n",
    "            l = j*len(fp_pos)+k\n",
    "            xall[i][l] = xcenter\n",
    "            yall[i][l] = ycenter"
   ]
  },
  {
   "cell_type": "code",
   "execution_count": 166,
   "metadata": {},
   "outputs": [
    {
     "data": {
      "text/plain": [
       "array([-285.985, -285.985, -295.985, -305.985, -305.985, -286.115,\n",
       "       -286.115, -296.115, -306.115, -306.115, -286.165, -286.165,\n",
       "       -296.165, -306.165, -306.165, -243.715, -243.715, -253.715,\n",
       "       -263.715, -263.715, -243.795, -243.795, -253.795, -263.795,\n",
       "       -263.795, -243.895, -243.895, -253.895, -263.895, -263.895,\n",
       "       -201.435, -201.435, -211.435, -221.435, -221.435, -201.515,\n",
       "       -201.515, -211.515, -221.515, -221.515, -201.595, -201.595,\n",
       "       -211.595, -221.595, -221.595])"
      ]
     },
     "execution_count": 166,
     "metadata": {},
     "output_type": "execute_result"
    }
   ],
   "source": [
    "xall[0]\n",
    "#list(zip(xall[0],yall[0]))"
   ]
  },
  {
   "cell_type": "code",
   "execution_count": 167,
   "metadata": {},
   "outputs": [
    {
     "data": {
      "image/png": "[encoded data removed]",
      "text/plain": [
       "<Figure size 504x504 with 1 Axes>"
      ]
     },
     "metadata": {
      "needs_background": "light"
     },
     "output_type": "display_data"
    }
   ],
   "source": [
    "import matplotlib.pyplot as plt\n",
    "%matplotlib inline\n",
    "plt.figure(figsize=(7,7))\n",
    "for i in np.arange(len(xall)):\n",
    "    plt.scatter(xall[i], yall[i], marker='.')"
   ]
  },
  {
   "cell_type": "code",
   "execution_count": 168,
   "metadata": {},
   "outputs": [
    {
     "name": "stdout",
     "output_type": "stream",
     "text": [
      "/home/combet/bot-eotest-configs/Run4/step23/with_offsets/ccob_qe_R01_all.cfg\n",
      "/home/combet/bot-eotest-configs/Run4/step23/with_offsets/ccob_qe_R02_all.cfg\n",
      "/home/combet/bot-eotest-configs/Run4/step23/with_offsets/ccob_qe_R03_all.cfg\n",
      "/home/combet/bot-eotest-configs/Run4/step23/with_offsets/ccob_qe_R10_all.cfg\n",
      "/home/combet/bot-eotest-configs/Run4/step23/with_offsets/ccob_qe_R11_all.cfg\n",
      "/home/combet/bot-eotest-configs/Run4/step23/with_offsets/ccob_qe_R12_all.cfg\n",
      "/home/combet/bot-eotest-configs/Run4/step23/with_offsets/ccob_qe_R13_all.cfg\n",
      "/home/combet/bot-eotest-configs/Run4/step23/with_offsets/ccob_qe_R14_all.cfg\n",
      "/home/combet/bot-eotest-configs/Run4/step23/with_offsets/ccob_qe_R20_all.cfg\n",
      "/home/combet/bot-eotest-configs/Run4/step23/with_offsets/ccob_qe_R21_all.cfg\n",
      "/home/combet/bot-eotest-configs/Run4/step23/with_offsets/ccob_qe_R22_all.cfg\n",
      "/home/combet/bot-eotest-configs/Run4/step23/with_offsets/ccob_qe_R23_all.cfg\n",
      "/home/combet/bot-eotest-configs/Run4/step23/with_offsets/ccob_qe_R24_all.cfg\n",
      "/home/combet/bot-eotest-configs/Run4/step23/with_offsets/ccob_qe_R30_all.cfg\n",
      "/home/combet/bot-eotest-configs/Run4/step23/with_offsets/ccob_qe_R31_all.cfg\n",
      "/home/combet/bot-eotest-configs/Run4/step23/with_offsets/ccob_qe_R32_all.cfg\n",
      "/home/combet/bot-eotest-configs/Run4/step23/with_offsets/ccob_qe_R33_all.cfg\n",
      "/home/combet/bot-eotest-configs/Run4/step23/with_offsets/ccob_qe_R34_all.cfg\n",
      "/home/combet/bot-eotest-configs/Run4/step23/with_offsets/ccob_qe_R41_all.cfg\n",
      "/home/combet/bot-eotest-configs/Run4/step23/with_offsets/ccob_qe_R42_all.cfg\n",
      "/home/combet/bot-eotest-configs/Run4/step23/with_offsets/ccob_qe_R43_all.cfg\n"
     ]
    }
   ],
   "source": [
    "for ii,raft in enumerate(raft_list):\n",
    "    np.savetxt('tmp.txt', list(zip(xall[ii], yall[ii])),fmt='%.3f', delimiter=('  '))\n",
    "    config_filename = '/home/combet/bot-eotest-configs/Run4/step23/with_offsets/ccob_qe_'+raft+'_all.cfg'\n",
    "    print(config_filename)\n",
    "    with open('tmp.txt', 'r') as istr:\n",
    "        with open(config_filename, 'w') as ostr:\n",
    "            print('[ACQUIRE]', file=ostr)\n",
    "            print('bias', file=ostr)\n",
    "            print('ccob', file=ostr)\n",
    "            print('bias\\n', file=ostr)\n",
    "            print('[BIAS]', file=ostr)\n",
    "            print('COUNT=10', file=ostr)\n",
    "#            print('LOCATIONS = '+raft+'/'+reb+'\\n', file=ostr)\n",
    "            print('LOCATIONS = '+raft+'\\n', file=ostr)\n",
    "            print('[CCOB]', file=ostr)\n",
    "            print('BCOUNT = 0', file=ostr)\n",
    "            print('IMCOUNT = 5', file=ostr)\n",
    "            print('XOFFSET = 5.0', file=ostr)\n",
    "            print('YOFFSET = -7.0', file=ostr)\n",
    "#            print('LOCATIONS = '+raft+'/'+reb+'\\n', file=ostr)\n",
    "            print('LOCATIONS = '+raft+'\\n', file=ostr)\n",
    "            led_number = 0\n",
    "            print('expose = '+ str(led_config[led_number][0])+' '\n",
    "                  + str(led_config[led_number][1])+' '+str(led_config[led_number][2])+',', file=ostr)\n",
    "            led_number = 1\n",
    "            print('         '+ str(led_config[led_number][0])+' '\n",
    "                  + str(led_config[led_number][1])+' '+str(led_config[led_number][2])+',', file=ostr)\n",
    "            led_number = 2\n",
    "            print('         '+ str(led_config[led_number][0])+' '\n",
    "                  + str(led_config[led_number][1])+' '+str(led_config[led_number][2])+',', file=ostr)\n",
    "            led_number = 3\n",
    "            print('         '+ str(led_config[led_number][0])+' '\n",
    "                  + str(led_config[led_number][1])+' '+str(led_config[led_number][2])+',', file=ostr)\n",
    "            led_number = 4\n",
    "            print('         '+ str(led_config[led_number][0])+' '\n",
    "                  + str(led_config[led_number][1])+' '+str(led_config[led_number][2])+',', file=ostr)\n",
    "            led_number = 5\n",
    "            print('         '+ str(led_config[led_number][0])+' '\n",
    "                  + str(led_config[led_number][1])+' '+str(led_config[led_number][2])+'\\n', file=ostr)\n",
    "            for i,line in enumerate(istr):\n",
    "                if i==0: \n",
    "                    line = 'point =  ' + line.rstrip('\\n') + ','\n",
    "                elif i!=len(xall[ii])-1:\n",
    "                    line = '         ' + line.rstrip('\\n') + ','\n",
    "                else:\n",
    "                    line = '         ' + line.rstrip('\\n')\n",
    "                print(line, file=ostr)"
   ]
  },
  {
   "cell_type": "code",
   "execution_count": 169,
   "metadata": {},
   "outputs": [
    {
     "name": "stdout",
     "output_type": "stream",
     "text": [
      "/home/combet/bot-eotest-configs/Run4/step23/with_offsets/ccob_qe_R01_all_byREB.cfg\n",
      "/home/combet/bot-eotest-configs/Run4/step23/with_offsets/ccob_qe_R02_all_byREB.cfg\n",
      "/home/combet/bot-eotest-configs/Run4/step23/with_offsets/ccob_qe_R03_all_byREB.cfg\n",
      "/home/combet/bot-eotest-configs/Run4/step23/with_offsets/ccob_qe_R10_all_byREB.cfg\n",
      "/home/combet/bot-eotest-configs/Run4/step23/with_offsets/ccob_qe_R11_all_byREB.cfg\n",
      "/home/combet/bot-eotest-configs/Run4/step23/with_offsets/ccob_qe_R12_all_byREB.cfg\n",
      "/home/combet/bot-eotest-configs/Run4/step23/with_offsets/ccob_qe_R13_all_byREB.cfg\n",
      "/home/combet/bot-eotest-configs/Run4/step23/with_offsets/ccob_qe_R14_all_byREB.cfg\n",
      "/home/combet/bot-eotest-configs/Run4/step23/with_offsets/ccob_qe_R20_all_byREB.cfg\n",
      "/home/combet/bot-eotest-configs/Run4/step23/with_offsets/ccob_qe_R21_all_byREB.cfg\n",
      "/home/combet/bot-eotest-configs/Run4/step23/with_offsets/ccob_qe_R22_all_byREB.cfg\n",
      "/home/combet/bot-eotest-configs/Run4/step23/with_offsets/ccob_qe_R23_all_byREB.cfg\n",
      "/home/combet/bot-eotest-configs/Run4/step23/with_offsets/ccob_qe_R24_all_byREB.cfg\n",
      "/home/combet/bot-eotest-configs/Run4/step23/with_offsets/ccob_qe_R30_all_byREB.cfg\n",
      "/home/combet/bot-eotest-configs/Run4/step23/with_offsets/ccob_qe_R31_all_byREB.cfg\n",
      "/home/combet/bot-eotest-configs/Run4/step23/with_offsets/ccob_qe_R32_all_byREB.cfg\n",
      "/home/combet/bot-eotest-configs/Run4/step23/with_offsets/ccob_qe_R33_all_byREB.cfg\n",
      "/home/combet/bot-eotest-configs/Run4/step23/with_offsets/ccob_qe_R34_all_byREB.cfg\n",
      "/home/combet/bot-eotest-configs/Run4/step23/with_offsets/ccob_qe_R41_all_byREB.cfg\n",
      "/home/combet/bot-eotest-configs/Run4/step23/with_offsets/ccob_qe_R42_all_byREB.cfg\n",
      "/home/combet/bot-eotest-configs/Run4/step23/with_offsets/ccob_qe_R43_all_byREB.cfg\n"
     ]
    }
   ],
   "source": [
    "for ii,raft in enumerate(raft_list):\n",
    "    np.savetxt('tmp.txt', list(zip(xall[ii], yall[ii])),fmt='%.3f', delimiter=('  '))\n",
    "    config_filename = '/home/combet/bot-eotest-configs/Run4/step23/with_offsets/ccob_qe_'+raft+'_all_byREB.cfg'\n",
    "    print(config_filename)\n",
    "    with open(config_filename, 'w') as ostr:\n",
    "        print('[ACQUIRE]', file=ostr)\n",
    "        print('BIAS1', file=ostr)\n",
    "        print('CCOB1', file=ostr)\n",
    "        print('BIAS2', file=ostr)\n",
    "        print('CCOB2', file=ostr)\n",
    "        print('BIAS3', file=ostr)\n",
    "        print('CCOB3\\n', file=ostr)\n",
    "\n",
    "\n",
    "        print('[BIAS1]', file=ostr)\n",
    "        print('COUNT=10', file=ostr)\n",
    "        print('LOCATIONS = '+raft+'/Reb0 \\n', file=ostr)\n",
    "        print('[BIAS2]', file=ostr)\n",
    "        print('COUNT=10', file=ostr)\n",
    "        print('LOCATIONS = '+raft+'/Reb1 \\n', file=ostr)\n",
    "        print('[BIAS3]', file=ostr)\n",
    "        print('COUNT=10', file=ostr)\n",
    "        print('LOCATIONS = '+raft+'/Reb2 \\n', file=ostr)\n",
    "\n",
    "        print('[CCOB1]', file=ostr)\n",
    "        print('BCOUNT = 0', file=ostr)\n",
    "        print('IMCOUNT = 5', file=ostr)\n",
    "        print('XOFFSET = 5.0', file=ostr)\n",
    "        print('YOFFSET = -7.0', file=ostr)\n",
    "        print('LOCATIONS = '+raft+'/Reb0 \\n', file=ostr)\n",
    "        led_number = 0\n",
    "        print('expose = '+ str(led_config[led_number][0])+' '\n",
    "              + str(led_config[led_number][1])+' '+str(led_config[led_number][2])+',', file=ostr)\n",
    "        led_number = 1\n",
    "        print('         '+ str(led_config[led_number][0])+' '\n",
    "              + str(led_config[led_number][1])+' '+str(led_config[led_number][2])+',', file=ostr)\n",
    "        led_number = 2\n",
    "        print('         '+ str(led_config[led_number][0])+' '\n",
    "              + str(led_config[led_number][1])+' '+str(led_config[led_number][2])+',', file=ostr)\n",
    "        led_number = 3\n",
    "        print('         '+ str(led_config[led_number][0])+' '\n",
    "              + str(led_config[led_number][1])+' '+str(led_config[led_number][2])+',', file=ostr)\n",
    "        led_number = 4\n",
    "        print('         '+ str(led_config[led_number][0])+' '\n",
    "              + str(led_config[led_number][1])+' '+str(led_config[led_number][2])+',', file=ostr)\n",
    "        led_number = 5\n",
    "        print('         '+ str(led_config[led_number][0])+' '\n",
    "              + str(led_config[led_number][1])+' '+str(led_config[led_number][2])+'\\n', file=ostr)\n",
    "        with open('tmp.txt', 'r') as istr:\n",
    "            for i,line in enumerate(list(istr)[0:15]):\n",
    "                if i==0: \n",
    "                    line = 'point =  ' + line.rstrip('\\n') + ','\n",
    "                elif i!=14:\n",
    "                    line = '         ' + line.rstrip('\\n') + ','\n",
    "                else:\n",
    "                    line = '         ' + line.rstrip('\\n\\n')\n",
    "                print(line, file=ostr)\n",
    "                \n",
    "        print('\\n[CCOB2]', file=ostr)\n",
    "        print('BCOUNT = 0', file=ostr)\n",
    "        print('IMCOUNT = 5', file=ostr)\n",
    "        print('XOFFSET = 5.0', file=ostr)\n",
    "        print('YOFFSET = -7.0', file=ostr)\n",
    "        print('LOCATIONS = '+raft+'/Reb1 \\n', file=ostr)\n",
    "        led_number = 0\n",
    "        print('expose = '+ str(led_config[led_number][0])+' '\n",
    "              + str(led_config[led_number][1])+' '+str(led_config[led_number][2])+',', file=ostr)\n",
    "        led_number = 1\n",
    "        print('         '+ str(led_config[led_number][0])+' '\n",
    "              + str(led_config[led_number][1])+' '+str(led_config[led_number][2])+',', file=ostr)\n",
    "        led_number = 2\n",
    "        print('         '+ str(led_config[led_number][0])+' '\n",
    "              + str(led_config[led_number][1])+' '+str(led_config[led_number][2])+',', file=ostr)\n",
    "        led_number = 3\n",
    "        print('         '+ str(led_config[led_number][0])+' '\n",
    "              + str(led_config[led_number][1])+' '+str(led_config[led_number][2])+',', file=ostr)\n",
    "        led_number = 4\n",
    "        print('         '+ str(led_config[led_number][0])+' '\n",
    "              + str(led_config[led_number][1])+' '+str(led_config[led_number][2])+',', file=ostr)\n",
    "        led_number = 5\n",
    "        print('         '+ str(led_config[led_number][0])+' '\n",
    "              + str(led_config[led_number][1])+' '+str(led_config[led_number][2])+'\\n', file=ostr)\n",
    "\n",
    "        with open('tmp.txt', 'r') as istr:\n",
    "            for i,line in enumerate(list(istr)[15:30]):\n",
    "                if i==0: \n",
    "                    line = 'point =  ' + line.rstrip('\\n') + ','\n",
    "                elif i!=14:\n",
    "                    line = '         ' + line.rstrip('\\n') + ','\n",
    "                else:\n",
    "                    line = '         ' + line.rstrip('\\n')\n",
    "                print(line, file=ostr)\n",
    "              \n",
    "        print('\\n[CCOB3]', file=ostr)\n",
    "        print('BCOUNT = 0', file=ostr)\n",
    "        print('IMCOUNT = 5', file=ostr)\n",
    "        print('XOFFSET = 5.0', file=ostr)\n",
    "        print('YOFFSET = -7.0', file=ostr)\n",
    "        print('LOCATIONS = '+raft+'/Reb2 \\n', file=ostr)\n",
    "        led_number = 0\n",
    "        print('expose = '+ str(led_config[led_number][0])+' '\n",
    "              + str(led_config[led_number][1])+' '+str(led_config[led_number][2])+',', file=ostr)\n",
    "        led_number = 1\n",
    "        print('         '+ str(led_config[led_number][0])+' '\n",
    "              + str(led_config[led_number][1])+' '+str(led_config[led_number][2])+',', file=ostr)\n",
    "        led_number = 2\n",
    "        print('         '+ str(led_config[led_number][0])+' '\n",
    "              + str(led_config[led_number][1])+' '+str(led_config[led_number][2])+',', file=ostr)\n",
    "        led_number = 3\n",
    "        print('         '+ str(led_config[led_number][0])+' '\n",
    "              + str(led_config[led_number][1])+' '+str(led_config[led_number][2])+',', file=ostr)\n",
    "        led_number = 4\n",
    "        print('         '+ str(led_config[led_number][0])+' '\n",
    "              + str(led_config[led_number][1])+' '+str(led_config[led_number][2])+',', file=ostr)\n",
    "        led_number = 5\n",
    "        print('         '+ str(led_config[led_number][0])+' '\n",
    "              + str(led_config[led_number][1])+' '+str(led_config[led_number][2])+'\\n', file=ostr)\n",
    "\n",
    "        with open('tmp.txt', 'r') as istr:\n",
    "            for i,line in enumerate(list(istr)[30:45]):\n",
    "                if i==0: \n",
    "                    line = 'point =  ' + line.rstrip('\\n') + ','\n",
    "                elif i!=14:\n",
    "                    line = '         ' + line.rstrip('\\n') + ','\n",
    "                else:\n",
    "                    line = '         ' + line.rstrip('\\n')\n",
    "                print(line, file=ostr)"
   ]
  },
  {
   "cell_type": "code",
   "execution_count": 106,
   "metadata": {},
   "outputs": [
    {
     "name": "stdout",
     "output_type": "stream",
     "text": [
      "221.715  75.055\n",
      "\n",
      "221.715  95.415\n",
      "\n",
      "211.715  85.235\n",
      "\n",
      "201.715  75.055\n",
      "\n",
      "201.715  95.415\n",
      "\n",
      "221.585  117.335\n",
      "\n",
      "221.585  137.695\n",
      "\n",
      "211.585  127.515\n",
      "\n",
      "201.585  117.335\n",
      "\n",
      "201.585  137.695\n",
      "\n",
      "221.535  159.605\n",
      "\n",
      "221.535  179.965\n",
      "\n",
      "211.535  169.785\n",
      "\n",
      "201.535  159.605\n",
      "\n",
      "201.535  179.965\n",
      "\n",
      "263.985  75.105\n",
      "\n",
      "263.985  95.465\n",
      "\n",
      "253.985  85.285\n",
      "\n",
      "243.985  75.105\n",
      "\n",
      "243.985  95.465\n",
      "\n",
      "263.905  117.425\n",
      "\n",
      "263.905  137.785\n",
      "\n",
      "253.905  127.605\n",
      "\n",
      "243.905  117.425\n",
      "\n",
      "243.905  137.785\n",
      "\n",
      "263.805  159.705\n",
      "\n",
      "263.805  180.065\n",
      "\n",
      "253.805  169.885\n",
      "\n",
      "243.805  159.705\n",
      "\n",
      "243.805  180.065\n",
      "\n",
      "306.265  75.235\n",
      "\n",
      "306.265  95.595\n",
      "\n",
      "296.265  85.415\n",
      "\n",
      "286.265  75.235\n",
      "\n",
      "286.265  95.595\n",
      "\n",
      "306.185  117.525\n",
      "\n",
      "306.185  137.885\n",
      "\n",
      "296.185  127.705\n",
      "\n",
      "286.185  117.525\n",
      "\n",
      "286.185  137.885\n",
      "\n",
      "306.105  159.785\n",
      "\n",
      "306.105  180.145\n",
      "\n",
      "296.105  169.965\n",
      "\n",
      "286.105  159.785\n",
      "\n",
      "286.105  180.145\n",
      "\n"
     ]
    }
   ],
   "source": [
    "with open('tmp.txt', 'r') as istr:\n",
    "    for i,line in enumerate(list(istr)):\n",
    "        print(line)"
   ]
  },
  {
   "cell_type": "code",
   "execution_count": 13,
   "metadata": {},
   "outputs": [
    {
     "data": {
      "text/plain": [
       "('R22_S11', 1940.4000000000003, 1912.1)"
      ]
     },
     "execution_count": 13,
     "metadata": {},
     "output_type": "execute_result"
    }
   ],
   "source": [
    "lct.focalMmToCcdPixel(-1.071,-0.894)"
   ]
  },
  {
   "cell_type": "code",
   "execution_count": 36,
   "metadata": {},
   "outputs": [
    {
     "data": {
      "text/plain": [
       "('R22_S11', 2797.5, 2291.5)"
      ]
     },
     "execution_count": 36,
     "metadata": {},
     "output_type": "execute_result"
    }
   ],
   "source": [
    "lct.focalMmToCcdPixel(7.5, 2.9)"
   ]
  },
  {
   "cell_type": "code",
   "execution_count": 37,
   "metadata": {},
   "outputs": [
    {
     "data": {
      "text/plain": [
       "('R22_S11', 2304.0, 3003.0)"
      ]
     },
     "execution_count": 37,
     "metadata": {},
     "output_type": "execute_result"
    }
   ],
   "source": [
    "lct.focalMmToCcdPixel(2.5649999999999977,10.015)"
   ]
  },
  {
   "cell_type": "code",
   "execution_count": 11,
   "metadata": {},
   "outputs": [
    {
     "name": "stdout",
     "output_type": "stream",
     "text": [
      "The autoreload extension is already loaded. To reload it, use:\n",
      "  %reload_ext autoreload\n"
     ]
    }
   ],
   "source": [
    "import sys\n",
    "sys.path.insert(0, '../')\n",
    "import ccob_QE_data as qe_data\n",
    "import numpy as np\n",
    "%load_ext autoreload\n",
    "%autoreload 2"
   ]
  },
  {
   "cell_type": "code",
   "execution_count": 76,
   "metadata": {},
   "outputs": [],
   "source": [
    "ccdid = 'R30_S11'\n",
    "led = 'red'\n",
    "path_to_data = '/gpfs/slac/lsst/fs3/g/data/jobHarness/jh_stage-test/LCA-10134_Cryostat/LCA-10134_Cryostat-0001/6843D/BOT_acq/v0/48047/'\n",
    "gainfile='/gpfs/slac/lsst/fs3/g/data/jobHarness/jh_stage-test/LCA-10134_Cryostat/LCA-10134_Cryostat-0001/6801D/fe55_analysis_BOT/v0/47706/R30_S11_6801D_eotest_results.fits'\n",
    "data = qe_data.CcobQeData(ccdid, led, path_to_data, gainfile, None)"
   ]
  },
  {
   "cell_type": "code",
   "execution_count": 77,
   "metadata": {},
   "outputs": [
    {
     "data": {
      "text/plain": [
       "<ccob_QE_data.CcobQeData at 0x7f52e5d12390>"
      ]
     },
     "execution_count": 77,
     "metadata": {},
     "output_type": "execute_result"
    }
   ],
   "source": [
    "data"
   ]
  },
  {
   "cell_type": "code",
   "execution_count": 78,
   "metadata": {},
   "outputs": [
    {
     "data": {
      "text/plain": [
       "array(['/gpfs/slac/lsst/fs3/g/data/jobHarness/jh_stage-test/LCA-10134_Cryostat/LCA-10134_Cryostat-0001/6843D/BOT_acq/v0/48047/ccob_red_117.595_-243.655_735',\n",
       "       '/gpfs/slac/lsst/fs3/g/data/jobHarness/jh_stage-test/LCA-10134_Cryostat/LCA-10134_Cryostat-0001/6843D/BOT_acq/v0/48047/ccob_red_117.595_-243.655_736',\n",
       "       '/gpfs/slac/lsst/fs3/g/data/jobHarness/jh_stage-test/LCA-10134_Cryostat/LCA-10134_Cryostat-0001/6843D/BOT_acq/v0/48047/ccob_red_117.595_-243.655_737',\n",
       "       '/gpfs/slac/lsst/fs3/g/data/jobHarness/jh_stage-test/LCA-10134_Cryostat/LCA-10134_Cryostat-0001/6843D/BOT_acq/v0/48047/ccob_red_117.595_-243.655_738',\n",
       "       '/gpfs/slac/lsst/fs3/g/data/jobHarness/jh_stage-test/LCA-10134_Cryostat/LCA-10134_Cryostat-0001/6843D/BOT_acq/v0/48047/ccob_red_117.595_-243.655_739',\n",
       "       '/gpfs/slac/lsst/fs3/g/data/jobHarness/jh_stage-test/LCA-10134_Cryostat/LCA-10134_Cryostat-0001/6843D/BOT_acq/v0/48047/ccob_red_117.595_-264.135_705',\n",
       "       '/gpfs/slac/lsst/fs3/g/data/jobHarness/jh_stage-test/LCA-10134_Cryostat/LCA-10134_Cryostat-0001/6843D/BOT_acq/v0/48047/ccob_red_117.595_-264.135_706',\n",
       "       '/gpfs/slac/lsst/fs3/g/data/jobHarness/jh_stage-test/LCA-10134_Cryostat/LCA-10134_Cryostat-0001/6843D/BOT_acq/v0/48047/ccob_red_117.595_-264.135_707',\n",
       "       '/gpfs/slac/lsst/fs3/g/data/jobHarness/jh_stage-test/LCA-10134_Cryostat/LCA-10134_Cryostat-0001/6843D/BOT_acq/v0/48047/ccob_red_117.595_-264.135_708',\n",
       "       '/gpfs/slac/lsst/fs3/g/data/jobHarness/jh_stage-test/LCA-10134_Cryostat/LCA-10134_Cryostat-0001/6843D/BOT_acq/v0/48047/ccob_red_117.595_-264.135_709',\n",
       "       '/gpfs/slac/lsst/fs3/g/data/jobHarness/jh_stage-test/LCA-10134_Cryostat/LCA-10134_Cryostat-0001/6843D/BOT_acq/v0/48047/ccob_red_127.605_-253.895_675',\n",
       "       '/gpfs/slac/lsst/fs3/g/data/jobHarness/jh_stage-test/LCA-10134_Cryostat/LCA-10134_Cryostat-0001/6843D/BOT_acq/v0/48047/ccob_red_127.605_-253.895_676',\n",
       "       '/gpfs/slac/lsst/fs3/g/data/jobHarness/jh_stage-test/LCA-10134_Cryostat/LCA-10134_Cryostat-0001/6843D/BOT_acq/v0/48047/ccob_red_127.605_-253.895_677',\n",
       "       '/gpfs/slac/lsst/fs3/g/data/jobHarness/jh_stage-test/LCA-10134_Cryostat/LCA-10134_Cryostat-0001/6843D/BOT_acq/v0/48047/ccob_red_127.605_-253.895_678',\n",
       "       '/gpfs/slac/lsst/fs3/g/data/jobHarness/jh_stage-test/LCA-10134_Cryostat/LCA-10134_Cryostat-0001/6843D/BOT_acq/v0/48047/ccob_red_127.605_-253.895_679',\n",
       "       '/gpfs/slac/lsst/fs3/g/data/jobHarness/jh_stage-test/LCA-10134_Cryostat/LCA-10134_Cryostat-0001/6843D/BOT_acq/v0/48047/ccob_red_137.615_-243.655_645',\n",
       "       '/gpfs/slac/lsst/fs3/g/data/jobHarness/jh_stage-test/LCA-10134_Cryostat/LCA-10134_Cryostat-0001/6843D/BOT_acq/v0/48047/ccob_red_137.615_-243.655_646',\n",
       "       '/gpfs/slac/lsst/fs3/g/data/jobHarness/jh_stage-test/LCA-10134_Cryostat/LCA-10134_Cryostat-0001/6843D/BOT_acq/v0/48047/ccob_red_137.615_-243.655_647',\n",
       "       '/gpfs/slac/lsst/fs3/g/data/jobHarness/jh_stage-test/LCA-10134_Cryostat/LCA-10134_Cryostat-0001/6843D/BOT_acq/v0/48047/ccob_red_137.615_-243.655_648',\n",
       "       '/gpfs/slac/lsst/fs3/g/data/jobHarness/jh_stage-test/LCA-10134_Cryostat/LCA-10134_Cryostat-0001/6843D/BOT_acq/v0/48047/ccob_red_137.615_-243.655_649',\n",
       "       '/gpfs/slac/lsst/fs3/g/data/jobHarness/jh_stage-test/LCA-10134_Cryostat/LCA-10134_Cryostat-0001/6843D/BOT_acq/v0/48047/ccob_red_137.615_-264.135_615',\n",
       "       '/gpfs/slac/lsst/fs3/g/data/jobHarness/jh_stage-test/LCA-10134_Cryostat/LCA-10134_Cryostat-0001/6843D/BOT_acq/v0/48047/ccob_red_137.615_-264.135_616',\n",
       "       '/gpfs/slac/lsst/fs3/g/data/jobHarness/jh_stage-test/LCA-10134_Cryostat/LCA-10134_Cryostat-0001/6843D/BOT_acq/v0/48047/ccob_red_137.615_-264.135_617',\n",
       "       '/gpfs/slac/lsst/fs3/g/data/jobHarness/jh_stage-test/LCA-10134_Cryostat/LCA-10134_Cryostat-0001/6843D/BOT_acq/v0/48047/ccob_red_137.615_-264.135_618',\n",
       "       '/gpfs/slac/lsst/fs3/g/data/jobHarness/jh_stage-test/LCA-10134_Cryostat/LCA-10134_Cryostat-0001/6843D/BOT_acq/v0/48047/ccob_red_137.615_-264.135_619'],\n",
       "      dtype='<U148')"
      ]
     },
     "execution_count": 78,
     "metadata": {},
     "output_type": "execute_result"
    }
   ],
   "source": [
    "data.find_dir()\n",
    "data.dir_list"
   ]
  },
  {
   "cell_type": "code",
   "execution_count": 79,
   "metadata": {},
   "outputs": [
    {
     "data": {
      "text/plain": [
       "array(['117.595_-243.655', '117.595_-264.135', '127.605_-253.895',\n",
       "       '137.615_-243.655', '137.615_-264.135'], dtype='<U16')"
      ]
     },
     "execution_count": 79,
     "metadata": {},
     "output_type": "execute_result"
    }
   ],
   "source": [
    "data.pos_list"
   ]
  },
  {
   "cell_type": "code",
   "execution_count": 94,
   "metadata": {},
   "outputs": [
    {
     "data": {
      "text/plain": [
       "(array([[ 5888.68408203, 15768.27636719, 20690.328125  , ...,\n",
       "         21671.15429688, 17100.51953125,  7844.8125    ],\n",
       "        [ 8151.953125  , 19516.0859375 , 24660.52539062, ...,\n",
       "         25588.42382812, 20869.02148438,  9760.5703125 ],\n",
       "        [10755.06445312, 23848.59960938, 30082.49023438, ...,\n",
       "         30159.47265625, 23831.078125  , 11537.0546875 ],\n",
       "        ...,\n",
       "        [10589.49121094, 23188.85742188, 29385.94726562, ...,\n",
       "         26425.34179688, 21162.16992188,  9844.43261719],\n",
       "        [ 8572.70019531, 19682.73632812, 25211.2421875 , ...,\n",
       "         22868.37695312, 17817.44921875,  7837.51806641],\n",
       "        [ 7390.65869141, 17988.88085938, 22582.51953125, ...,\n",
       "         20508.2421875 , 15538.59863281,  6161.52783203]]),\n",
       " {(0, 0): {'amp': 1,\n",
       "   'segment': 'SEGMENT10',\n",
       "   'xmin': 3584,\n",
       "   'xmax': 4096,\n",
       "   'ymin': 2002,\n",
       "   'ymax': 4004,\n",
       "   'flipx': False,\n",
       "   'flipy': True,\n",
       "   'detsec': {'xmin': 512, 'xmax': 1, 'ymin': 1, 'ymax': 2002},\n",
       "   'datasec': {'xmin': 11, 'xmax': 522, 'ymin': 1, 'ymax': 2002}},\n",
       "  (1, 0): {'amp': 2,\n",
       "   'segment': 'SEGMENT11',\n",
       "   'xmin': 3072,\n",
       "   'xmax': 3584,\n",
       "   'ymin': 2002,\n",
       "   'ymax': 4004,\n",
       "   'flipx': False,\n",
       "   'flipy': True,\n",
       "   'detsec': {'xmin': 1024, 'xmax': 513, 'ymin': 1, 'ymax': 2002},\n",
       "   'datasec': {'xmin': 11, 'xmax': 522, 'ymin': 1, 'ymax': 2002}},\n",
       "  (2, 0): {'amp': 3,\n",
       "   'segment': 'SEGMENT12',\n",
       "   'xmin': 2560,\n",
       "   'xmax': 3072,\n",
       "   'ymin': 2002,\n",
       "   'ymax': 4004,\n",
       "   'flipx': False,\n",
       "   'flipy': True,\n",
       "   'detsec': {'xmin': 1536, 'xmax': 1025, 'ymin': 1, 'ymax': 2002},\n",
       "   'datasec': {'xmin': 11, 'xmax': 522, 'ymin': 1, 'ymax': 2002}},\n",
       "  (3, 0): {'amp': 4,\n",
       "   'segment': 'SEGMENT13',\n",
       "   'xmin': 2048,\n",
       "   'xmax': 2560,\n",
       "   'ymin': 2002,\n",
       "   'ymax': 4004,\n",
       "   'flipx': False,\n",
       "   'flipy': True,\n",
       "   'detsec': {'xmin': 2048, 'xmax': 1537, 'ymin': 1, 'ymax': 2002},\n",
       "   'datasec': {'xmin': 11, 'xmax': 522, 'ymin': 1, 'ymax': 2002}},\n",
       "  (4, 0): {'amp': 5,\n",
       "   'segment': 'SEGMENT14',\n",
       "   'xmin': 1536,\n",
       "   'xmax': 2048,\n",
       "   'ymin': 2002,\n",
       "   'ymax': 4004,\n",
       "   'flipx': False,\n",
       "   'flipy': True,\n",
       "   'detsec': {'xmin': 2560, 'xmax': 2049, 'ymin': 1, 'ymax': 2002},\n",
       "   'datasec': {'xmin': 11, 'xmax': 522, 'ymin': 1, 'ymax': 2002}},\n",
       "  (5, 0): {'amp': 6,\n",
       "   'segment': 'SEGMENT15',\n",
       "   'xmin': 1024,\n",
       "   'xmax': 1536,\n",
       "   'ymin': 2002,\n",
       "   'ymax': 4004,\n",
       "   'flipx': False,\n",
       "   'flipy': True,\n",
       "   'detsec': {'xmin': 3072, 'xmax': 2561, 'ymin': 1, 'ymax': 2002},\n",
       "   'datasec': {'xmin': 11, 'xmax': 522, 'ymin': 1, 'ymax': 2002}},\n",
       "  (6, 0): {'amp': 7,\n",
       "   'segment': 'SEGMENT16',\n",
       "   'xmin': 512,\n",
       "   'xmax': 1024,\n",
       "   'ymin': 2002,\n",
       "   'ymax': 4004,\n",
       "   'flipx': False,\n",
       "   'flipy': True,\n",
       "   'detsec': {'xmin': 3584, 'xmax': 3073, 'ymin': 1, 'ymax': 2002},\n",
       "   'datasec': {'xmin': 11, 'xmax': 522, 'ymin': 1, 'ymax': 2002}},\n",
       "  (7, 0): {'amp': 8,\n",
       "   'segment': 'SEGMENT17',\n",
       "   'xmin': 0,\n",
       "   'xmax': 512,\n",
       "   'ymin': 2002,\n",
       "   'ymax': 4004,\n",
       "   'flipx': False,\n",
       "   'flipy': True,\n",
       "   'detsec': {'xmin': 4096, 'xmax': 3585, 'ymin': 1, 'ymax': 2002},\n",
       "   'datasec': {'xmin': 11, 'xmax': 522, 'ymin': 1, 'ymax': 2002}},\n",
       "  (0, 1): {'amp': 9,\n",
       "   'segment': 'SEGMENT07',\n",
       "   'xmin': 0,\n",
       "   'xmax': 512,\n",
       "   'ymin': 0,\n",
       "   'ymax': 2002,\n",
       "   'flipx': True,\n",
       "   'flipy': False,\n",
       "   'detsec': {'xmin': 3585, 'xmax': 4096, 'ymin': 4004, 'ymax': 2003},\n",
       "   'datasec': {'xmin': 11, 'xmax': 522, 'ymin': 1, 'ymax': 2002}},\n",
       "  (1, 1): {'amp': 10,\n",
       "   'segment': 'SEGMENT06',\n",
       "   'xmin': 512,\n",
       "   'xmax': 1024,\n",
       "   'ymin': 0,\n",
       "   'ymax': 2002,\n",
       "   'flipx': True,\n",
       "   'flipy': False,\n",
       "   'detsec': {'xmin': 3073, 'xmax': 3584, 'ymin': 4004, 'ymax': 2003},\n",
       "   'datasec': {'xmin': 11, 'xmax': 522, 'ymin': 1, 'ymax': 2002}},\n",
       "  (2, 1): {'amp': 11,\n",
       "   'segment': 'SEGMENT05',\n",
       "   'xmin': 1024,\n",
       "   'xmax': 1536,\n",
       "   'ymin': 0,\n",
       "   'ymax': 2002,\n",
       "   'flipx': True,\n",
       "   'flipy': False,\n",
       "   'detsec': {'xmin': 2561, 'xmax': 3072, 'ymin': 4004, 'ymax': 2003},\n",
       "   'datasec': {'xmin': 11, 'xmax': 522, 'ymin': 1, 'ymax': 2002}},\n",
       "  (3, 1): {'amp': 12,\n",
       "   'segment': 'SEGMENT04',\n",
       "   'xmin': 1536,\n",
       "   'xmax': 2048,\n",
       "   'ymin': 0,\n",
       "   'ymax': 2002,\n",
       "   'flipx': True,\n",
       "   'flipy': False,\n",
       "   'detsec': {'xmin': 2049, 'xmax': 2560, 'ymin': 4004, 'ymax': 2003},\n",
       "   'datasec': {'xmin': 11, 'xmax': 522, 'ymin': 1, 'ymax': 2002}},\n",
       "  (4, 1): {'amp': 13,\n",
       "   'segment': 'SEGMENT03',\n",
       "   'xmin': 2048,\n",
       "   'xmax': 2560,\n",
       "   'ymin': 0,\n",
       "   'ymax': 2002,\n",
       "   'flipx': True,\n",
       "   'flipy': False,\n",
       "   'detsec': {'xmin': 1537, 'xmax': 2048, 'ymin': 4004, 'ymax': 2003},\n",
       "   'datasec': {'xmin': 11, 'xmax': 522, 'ymin': 1, 'ymax': 2002}},\n",
       "  (5, 1): {'amp': 14,\n",
       "   'segment': 'SEGMENT02',\n",
       "   'xmin': 2560,\n",
       "   'xmax': 3072,\n",
       "   'ymin': 0,\n",
       "   'ymax': 2002,\n",
       "   'flipx': True,\n",
       "   'flipy': False,\n",
       "   'detsec': {'xmin': 1025, 'xmax': 1536, 'ymin': 4004, 'ymax': 2003},\n",
       "   'datasec': {'xmin': 11, 'xmax': 522, 'ymin': 1, 'ymax': 2002}},\n",
       "  (6, 1): {'amp': 15,\n",
       "   'segment': 'SEGMENT01',\n",
       "   'xmin': 3072,\n",
       "   'xmax': 3584,\n",
       "   'ymin': 0,\n",
       "   'ymax': 2002,\n",
       "   'flipx': True,\n",
       "   'flipy': False,\n",
       "   'detsec': {'xmin': 513, 'xmax': 1024, 'ymin': 4004, 'ymax': 2003},\n",
       "   'datasec': {'xmin': 11, 'xmax': 522, 'ymin': 1, 'ymax': 2002}},\n",
       "  (7, 1): {'amp': 16,\n",
       "   'segment': 'SEGMENT00',\n",
       "   'xmin': 3584,\n",
       "   'xmax': 4096,\n",
       "   'ymin': 0,\n",
       "   'ymax': 2002,\n",
       "   'flipx': True,\n",
       "   'flipy': False,\n",
       "   'detsec': {'xmin': 1, 'xmax': 512, 'ymin': 4004, 'ymax': 2003},\n",
       "   'datasec': {'xmin': 11, 'xmax': 522, 'ymin': 1, 'ymax': 2002}}})"
      ]
     },
     "execution_count": 94,
     "metadata": {},
     "output_type": "execute_result"
    }
   ],
   "source": [
    "data.make_avg_mosaic_at_pos(data.pos_list[2], '/home/combet/tmp_9rafts/')"
   ]
  },
  {
   "cell_type": "code",
   "execution_count": 84,
   "metadata": {},
   "outputs": [
    {
     "data": {
      "text/plain": [
       "{'117.595_-243.655': {'mosaic': array([[ 5960.43896484, 16083.70898438, 21079.1015625 , ...,\n",
       "          20159.65625   , 15813.31835938,  7191.59570312],\n",
       "         [ 8326.41699219, 19789.9140625 , 24904.78125   , ...,\n",
       "          23780.48046875, 19267.06445312,  9022.61816406],\n",
       "         [10896.18261719, 24134.03320312, 30425.88476562, ...,\n",
       "          27850.51367188, 22195.01171875, 10690.60742188],\n",
       "         ...,\n",
       "         [ 9937.85351562, 21685.34960938, 27340.65625   , ...,\n",
       "          21515.91601562, 17255.25390625,  7992.20654297],\n",
       "         [ 8000.60058594, 18454.73242188, 23394.18945312, ...,\n",
       "          18624.14453125, 14567.82128906,  6411.14746094],\n",
       "         [ 6839.06298828, 16870.140625  , 21135.25195312, ...,\n",
       "          16714.46289062, 12690.88085938,  5002.72119141]]),\n",
       "  'amp_coord': {(0, 0): {'amp': 1,\n",
       "    'segment': 'SEGMENT10',\n",
       "    'xmin': 3584,\n",
       "    'xmax': 4096,\n",
       "    'ymin': 2002,\n",
       "    'ymax': 4004,\n",
       "    'flipx': False,\n",
       "    'flipy': True,\n",
       "    'detsec': {'xmin': 512, 'xmax': 1, 'ymin': 1, 'ymax': 2002},\n",
       "    'datasec': {'xmin': 11, 'xmax': 522, 'ymin': 1, 'ymax': 2002}},\n",
       "   (1, 0): {'amp': 2,\n",
       "    'segment': 'SEGMENT11',\n",
       "    'xmin': 3072,\n",
       "    'xmax': 3584,\n",
       "    'ymin': 2002,\n",
       "    'ymax': 4004,\n",
       "    'flipx': False,\n",
       "    'flipy': True,\n",
       "    'detsec': {'xmin': 1024, 'xmax': 513, 'ymin': 1, 'ymax': 2002},\n",
       "    'datasec': {'xmin': 11, 'xmax': 522, 'ymin': 1, 'ymax': 2002}},\n",
       "   (2, 0): {'amp': 3,\n",
       "    'segment': 'SEGMENT12',\n",
       "    'xmin': 2560,\n",
       "    'xmax': 3072,\n",
       "    'ymin': 2002,\n",
       "    'ymax': 4004,\n",
       "    'flipx': False,\n",
       "    'flipy': True,\n",
       "    'detsec': {'xmin': 1536, 'xmax': 1025, 'ymin': 1, 'ymax': 2002},\n",
       "    'datasec': {'xmin': 11, 'xmax': 522, 'ymin': 1, 'ymax': 2002}},\n",
       "   (3, 0): {'amp': 4,\n",
       "    'segment': 'SEGMENT13',\n",
       "    'xmin': 2048,\n",
       "    'xmax': 2560,\n",
       "    'ymin': 2002,\n",
       "    'ymax': 4004,\n",
       "    'flipx': False,\n",
       "    'flipy': True,\n",
       "    'detsec': {'xmin': 2048, 'xmax': 1537, 'ymin': 1, 'ymax': 2002},\n",
       "    'datasec': {'xmin': 11, 'xmax': 522, 'ymin': 1, 'ymax': 2002}},\n",
       "   (4, 0): {'amp': 5,\n",
       "    'segment': 'SEGMENT14',\n",
       "    'xmin': 1536,\n",
       "    'xmax': 2048,\n",
       "    'ymin': 2002,\n",
       "    'ymax': 4004,\n",
       "    'flipx': False,\n",
       "    'flipy': True,\n",
       "    'detsec': {'xmin': 2560, 'xmax': 2049, 'ymin': 1, 'ymax': 2002},\n",
       "    'datasec': {'xmin': 11, 'xmax': 522, 'ymin': 1, 'ymax': 2002}},\n",
       "   (5, 0): {'amp': 6,\n",
       "    'segment': 'SEGMENT15',\n",
       "    'xmin': 1024,\n",
       "    'xmax': 1536,\n",
       "    'ymin': 2002,\n",
       "    'ymax': 4004,\n",
       "    'flipx': False,\n",
       "    'flipy': True,\n",
       "    'detsec': {'xmin': 3072, 'xmax': 2561, 'ymin': 1, 'ymax': 2002},\n",
       "    'datasec': {'xmin': 11, 'xmax': 522, 'ymin': 1, 'ymax': 2002}},\n",
       "   (6, 0): {'amp': 7,\n",
       "    'segment': 'SEGMENT16',\n",
       "    'xmin': 512,\n",
       "    'xmax': 1024,\n",
       "    'ymin': 2002,\n",
       "    'ymax': 4004,\n",
       "    'flipx': False,\n",
       "    'flipy': True,\n",
       "    'detsec': {'xmin': 3584, 'xmax': 3073, 'ymin': 1, 'ymax': 2002},\n",
       "    'datasec': {'xmin': 11, 'xmax': 522, 'ymin': 1, 'ymax': 2002}},\n",
       "   (7, 0): {'amp': 8,\n",
       "    'segment': 'SEGMENT17',\n",
       "    'xmin': 0,\n",
       "    'xmax': 512,\n",
       "    'ymin': 2002,\n",
       "    'ymax': 4004,\n",
       "    'flipx': False,\n",
       "    'flipy': True,\n",
       "    'detsec': {'xmin': 4096, 'xmax': 3585, 'ymin': 1, 'ymax': 2002},\n",
       "    'datasec': {'xmin': 11, 'xmax': 522, 'ymin': 1, 'ymax': 2002}},\n",
       "   (0, 1): {'amp': 9,\n",
       "    'segment': 'SEGMENT07',\n",
       "    'xmin': 0,\n",
       "    'xmax': 512,\n",
       "    'ymin': 0,\n",
       "    'ymax': 2002,\n",
       "    'flipx': True,\n",
       "    'flipy': False,\n",
       "    'detsec': {'xmin': 3585, 'xmax': 4096, 'ymin': 4004, 'ymax': 2003},\n",
       "    'datasec': {'xmin': 11, 'xmax': 522, 'ymin': 1, 'ymax': 2002}},\n",
       "   (1, 1): {'amp': 10,\n",
       "    'segment': 'SEGMENT06',\n",
       "    'xmin': 512,\n",
       "    'xmax': 1024,\n",
       "    'ymin': 0,\n",
       "    'ymax': 2002,\n",
       "    'flipx': True,\n",
       "    'flipy': False,\n",
       "    'detsec': {'xmin': 3073, 'xmax': 3584, 'ymin': 4004, 'ymax': 2003},\n",
       "    'datasec': {'xmin': 11, 'xmax': 522, 'ymin': 1, 'ymax': 2002}},\n",
       "   (2, 1): {'amp': 11,\n",
       "    'segment': 'SEGMENT05',\n",
       "    'xmin': 1024,\n",
       "    'xmax': 1536,\n",
       "    'ymin': 0,\n",
       "    'ymax': 2002,\n",
       "    'flipx': True,\n",
       "    'flipy': False,\n",
       "    'detsec': {'xmin': 2561, 'xmax': 3072, 'ymin': 4004, 'ymax': 2003},\n",
       "    'datasec': {'xmin': 11, 'xmax': 522, 'ymin': 1, 'ymax': 2002}},\n",
       "   (3, 1): {'amp': 12,\n",
       "    'segment': 'SEGMENT04',\n",
       "    'xmin': 1536,\n",
       "    'xmax': 2048,\n",
       "    'ymin': 0,\n",
       "    'ymax': 2002,\n",
       "    'flipx': True,\n",
       "    'flipy': False,\n",
       "    'detsec': {'xmin': 2049, 'xmax': 2560, 'ymin': 4004, 'ymax': 2003},\n",
       "    'datasec': {'xmin': 11, 'xmax': 522, 'ymin': 1, 'ymax': 2002}},\n",
       "   (4, 1): {'amp': 13,\n",
       "    'segment': 'SEGMENT03',\n",
       "    'xmin': 2048,\n",
       "    'xmax': 2560,\n",
       "    'ymin': 0,\n",
       "    'ymax': 2002,\n",
       "    'flipx': True,\n",
       "    'flipy': False,\n",
       "    'detsec': {'xmin': 1537, 'xmax': 2048, 'ymin': 4004, 'ymax': 2003},\n",
       "    'datasec': {'xmin': 11, 'xmax': 522, 'ymin': 1, 'ymax': 2002}},\n",
       "   (5, 1): {'amp': 14,\n",
       "    'segment': 'SEGMENT02',\n",
       "    'xmin': 2560,\n",
       "    'xmax': 3072,\n",
       "    'ymin': 0,\n",
       "    'ymax': 2002,\n",
       "    'flipx': True,\n",
       "    'flipy': False,\n",
       "    'detsec': {'xmin': 1025, 'xmax': 1536, 'ymin': 4004, 'ymax': 2003},\n",
       "    'datasec': {'xmin': 11, 'xmax': 522, 'ymin': 1, 'ymax': 2002}},\n",
       "   (6, 1): {'amp': 15,\n",
       "    'segment': 'SEGMENT01',\n",
       "    'xmin': 3072,\n",
       "    'xmax': 3584,\n",
       "    'ymin': 0,\n",
       "    'ymax': 2002,\n",
       "    'flipx': True,\n",
       "    'flipy': False,\n",
       "    'detsec': {'xmin': 513, 'xmax': 1024, 'ymin': 4004, 'ymax': 2003},\n",
       "    'datasec': {'xmin': 11, 'xmax': 522, 'ymin': 1, 'ymax': 2002}},\n",
       "   (7, 1): {'amp': 16,\n",
       "    'segment': 'SEGMENT00',\n",
       "    'xmin': 3584,\n",
       "    'xmax': 4096,\n",
       "    'ymin': 0,\n",
       "    'ymax': 2002,\n",
       "    'flipx': True,\n",
       "    'flipy': False,\n",
       "    'detsec': {'xmin': 1, 'xmax': 512, 'ymin': 4004, 'ymax': 2003},\n",
       "    'datasec': {'xmin': 11, 'xmax': 522, 'ymin': 1, 'ymax': 2002}}}},\n",
       " '117.595_-264.135': {'mosaic': array([[ 5808.67431641, 15681.16894531, 20536.97851562, ...,\n",
       "          23276.54296875, 18502.20898438,  8385.93261719],\n",
       "         [ 8155.85302734, 19310.61328125, 24399.45507812, ...,\n",
       "          27577.71484375, 22428.02539062, 10531.1015625 ],\n",
       "         [10659.55175781, 23586.29882812, 29778.78710938, ...,\n",
       "          32392.83007812, 25725.69921875, 12495.578125  ],\n",
       "         ...,\n",
       "         [ 9062.48828125, 19733.33203125, 25052.04101562, ...,\n",
       "          25644.75585938, 20715.75390625,  9657.67480469],\n",
       "         [ 7276.14648438, 17019.04101562, 21419.02148438, ...,\n",
       "          22374.78515625, 17306.921875  ,  7683.74023438],\n",
       "         [ 6210.92285156, 15350.93847656, 19279.45117188, ...,\n",
       "          19975.42578125, 15242.86230469,  6124.32128906]]),\n",
       "  'amp_coord': {(0, 0): {'amp': 1,\n",
       "    'segment': 'SEGMENT10',\n",
       "    'xmin': 3584,\n",
       "    'xmax': 4096,\n",
       "    'ymin': 2002,\n",
       "    'ymax': 4004,\n",
       "    'flipx': False,\n",
       "    'flipy': True,\n",
       "    'detsec': {'xmin': 512, 'xmax': 1, 'ymin': 1, 'ymax': 2002},\n",
       "    'datasec': {'xmin': 11, 'xmax': 522, 'ymin': 1, 'ymax': 2002}},\n",
       "   (1, 0): {'amp': 2,\n",
       "    'segment': 'SEGMENT11',\n",
       "    'xmin': 3072,\n",
       "    'xmax': 3584,\n",
       "    'ymin': 2002,\n",
       "    'ymax': 4004,\n",
       "    'flipx': False,\n",
       "    'flipy': True,\n",
       "    'detsec': {'xmin': 1024, 'xmax': 513, 'ymin': 1, 'ymax': 2002},\n",
       "    'datasec': {'xmin': 11, 'xmax': 522, 'ymin': 1, 'ymax': 2002}},\n",
       "   (2, 0): {'amp': 3,\n",
       "    'segment': 'SEGMENT12',\n",
       "    'xmin': 2560,\n",
       "    'xmax': 3072,\n",
       "    'ymin': 2002,\n",
       "    'ymax': 4004,\n",
       "    'flipx': False,\n",
       "    'flipy': True,\n",
       "    'detsec': {'xmin': 1536, 'xmax': 1025, 'ymin': 1, 'ymax': 2002},\n",
       "    'datasec': {'xmin': 11, 'xmax': 522, 'ymin': 1, 'ymax': 2002}},\n",
       "   (3, 0): {'amp': 4,\n",
       "    'segment': 'SEGMENT13',\n",
       "    'xmin': 2048,\n",
       "    'xmax': 2560,\n",
       "    'ymin': 2002,\n",
       "    'ymax': 4004,\n",
       "    'flipx': False,\n",
       "    'flipy': True,\n",
       "    'detsec': {'xmin': 2048, 'xmax': 1537, 'ymin': 1, 'ymax': 2002},\n",
       "    'datasec': {'xmin': 11, 'xmax': 522, 'ymin': 1, 'ymax': 2002}},\n",
       "   (4, 0): {'amp': 5,\n",
       "    'segment': 'SEGMENT14',\n",
       "    'xmin': 1536,\n",
       "    'xmax': 2048,\n",
       "    'ymin': 2002,\n",
       "    'ymax': 4004,\n",
       "    'flipx': False,\n",
       "    'flipy': True,\n",
       "    'detsec': {'xmin': 2560, 'xmax': 2049, 'ymin': 1, 'ymax': 2002},\n",
       "    'datasec': {'xmin': 11, 'xmax': 522, 'ymin': 1, 'ymax': 2002}},\n",
       "   (5, 0): {'amp': 6,\n",
       "    'segment': 'SEGMENT15',\n",
       "    'xmin': 1024,\n",
       "    'xmax': 1536,\n",
       "    'ymin': 2002,\n",
       "    'ymax': 4004,\n",
       "    'flipx': False,\n",
       "    'flipy': True,\n",
       "    'detsec': {'xmin': 3072, 'xmax': 2561, 'ymin': 1, 'ymax': 2002},\n",
       "    'datasec': {'xmin': 11, 'xmax': 522, 'ymin': 1, 'ymax': 2002}},\n",
       "   (6, 0): {'amp': 7,\n",
       "    'segment': 'SEGMENT16',\n",
       "    'xmin': 512,\n",
       "    'xmax': 1024,\n",
       "    'ymin': 2002,\n",
       "    'ymax': 4004,\n",
       "    'flipx': False,\n",
       "    'flipy': True,\n",
       "    'detsec': {'xmin': 3584, 'xmax': 3073, 'ymin': 1, 'ymax': 2002},\n",
       "    'datasec': {'xmin': 11, 'xmax': 522, 'ymin': 1, 'ymax': 2002}},\n",
       "   (7, 0): {'amp': 8,\n",
       "    'segment': 'SEGMENT17',\n",
       "    'xmin': 0,\n",
       "    'xmax': 512,\n",
       "    'ymin': 2002,\n",
       "    'ymax': 4004,\n",
       "    'flipx': False,\n",
       "    'flipy': True,\n",
       "    'detsec': {'xmin': 4096, 'xmax': 3585, 'ymin': 1, 'ymax': 2002},\n",
       "    'datasec': {'xmin': 11, 'xmax': 522, 'ymin': 1, 'ymax': 2002}},\n",
       "   (0, 1): {'amp': 9,\n",
       "    'segment': 'SEGMENT07',\n",
       "    'xmin': 0,\n",
       "    'xmax': 512,\n",
       "    'ymin': 0,\n",
       "    'ymax': 2002,\n",
       "    'flipx': True,\n",
       "    'flipy': False,\n",
       "    'detsec': {'xmin': 3585, 'xmax': 4096, 'ymin': 4004, 'ymax': 2003},\n",
       "    'datasec': {'xmin': 11, 'xmax': 522, 'ymin': 1, 'ymax': 2002}},\n",
       "   (1, 1): {'amp': 10,\n",
       "    'segment': 'SEGMENT06',\n",
       "    'xmin': 512,\n",
       "    'xmax': 1024,\n",
       "    'ymin': 0,\n",
       "    'ymax': 2002,\n",
       "    'flipx': True,\n",
       "    'flipy': False,\n",
       "    'detsec': {'xmin': 3073, 'xmax': 3584, 'ymin': 4004, 'ymax': 2003},\n",
       "    'datasec': {'xmin': 11, 'xmax': 522, 'ymin': 1, 'ymax': 2002}},\n",
       "   (2, 1): {'amp': 11,\n",
       "    'segment': 'SEGMENT05',\n",
       "    'xmin': 1024,\n",
       "    'xmax': 1536,\n",
       "    'ymin': 0,\n",
       "    'ymax': 2002,\n",
       "    'flipx': True,\n",
       "    'flipy': False,\n",
       "    'detsec': {'xmin': 2561, 'xmax': 3072, 'ymin': 4004, 'ymax': 2003},\n",
       "    'datasec': {'xmin': 11, 'xmax': 522, 'ymin': 1, 'ymax': 2002}},\n",
       "   (3, 1): {'amp': 12,\n",
       "    'segment': 'SEGMENT04',\n",
       "    'xmin': 1536,\n",
       "    'xmax': 2048,\n",
       "    'ymin': 0,\n",
       "    'ymax': 2002,\n",
       "    'flipx': True,\n",
       "    'flipy': False,\n",
       "    'detsec': {'xmin': 2049, 'xmax': 2560, 'ymin': 4004, 'ymax': 2003},\n",
       "    'datasec': {'xmin': 11, 'xmax': 522, 'ymin': 1, 'ymax': 2002}},\n",
       "   (4, 1): {'amp': 13,\n",
       "    'segment': 'SEGMENT03',\n",
       "    'xmin': 2048,\n",
       "    'xmax': 2560,\n",
       "    'ymin': 0,\n",
       "    'ymax': 2002,\n",
       "    'flipx': True,\n",
       "    'flipy': False,\n",
       "    'detsec': {'xmin': 1537, 'xmax': 2048, 'ymin': 4004, 'ymax': 2003},\n",
       "    'datasec': {'xmin': 11, 'xmax': 522, 'ymin': 1, 'ymax': 2002}},\n",
       "   (5, 1): {'amp': 14,\n",
       "    'segment': 'SEGMENT02',\n",
       "    'xmin': 2560,\n",
       "    'xmax': 3072,\n",
       "    'ymin': 0,\n",
       "    'ymax': 2002,\n",
       "    'flipx': True,\n",
       "    'flipy': False,\n",
       "    'detsec': {'xmin': 1025, 'xmax': 1536, 'ymin': 4004, 'ymax': 2003},\n",
       "    'datasec': {'xmin': 11, 'xmax': 522, 'ymin': 1, 'ymax': 2002}},\n",
       "   (6, 1): {'amp': 15,\n",
       "    'segment': 'SEGMENT01',\n",
       "    'xmin': 3072,\n",
       "    'xmax': 3584,\n",
       "    'ymin': 0,\n",
       "    'ymax': 2002,\n",
       "    'flipx': True,\n",
       "    'flipy': False,\n",
       "    'detsec': {'xmin': 513, 'xmax': 1024, 'ymin': 4004, 'ymax': 2003},\n",
       "    'datasec': {'xmin': 11, 'xmax': 522, 'ymin': 1, 'ymax': 2002}},\n",
       "   (7, 1): {'amp': 16,\n",
       "    'segment': 'SEGMENT00',\n",
       "    'xmin': 3584,\n",
       "    'xmax': 4096,\n",
       "    'ymin': 0,\n",
       "    'ymax': 2002,\n",
       "    'flipx': True,\n",
       "    'flipy': False,\n",
       "    'detsec': {'xmin': 1, 'xmax': 512, 'ymin': 4004, 'ymax': 2003},\n",
       "    'datasec': {'xmin': 11, 'xmax': 522, 'ymin': 1, 'ymax': 2002}}}}}"
      ]
     },
     "execution_count": 84,
     "metadata": {},
     "output_type": "execute_result"
    }
   ],
   "source": [
    "data.data"
   ]
  },
  {
   "cell_type": "code",
   "execution_count": 85,
   "metadata": {},
   "outputs": [],
   "source": [
    "import matplotlib.pyplot as plt"
   ]
  },
  {
   "cell_type": "code",
   "execution_count": 95,
   "metadata": {},
   "outputs": [
    {
     "data": {
      "text/plain": [
       "<matplotlib.colorbar.Colorbar at 0x7f52dfb54a20>"
      ]
     },
     "execution_count": 95,
     "metadata": {},
     "output_type": "execute_result"
    },
    {
     "data": {
      "image/png": "[encoded data removed]",
      "text/plain": [
       "<Figure size 432x288 with 2 Axes>"
      ]
     },
     "metadata": {
      "needs_background": "light"
     },
     "output_type": "display_data"
    }
   ],
   "source": [
    "plt.imshow(data.data[data.pos_list[2]]['mosaic'], vmin=65000, vmax=68000)\n",
    "plt.colorbar()"
   ]
  },
  {
   "cell_type": "code",
   "execution_count": null,
   "metadata": {},
   "outputs": [],
   "source": []
  }
 ],
 "metadata": {
  "kernelspec": {
   "display_name": "Python 3",
   "language": "python",
   "name": "python3"
  },
  "language_info": {
   "codemirror_mode": {
    "name": "ipython",
    "version": 3
   },
   "file_extension": ".py",
   "mimetype": "text/x-python",
   "name": "python",
   "nbconvert_exporter": "python",
   "pygments_lexer": "ipython3",
   "version": "3.7.2"
  }
 },
 "nbformat": 4,
 "nbformat_minor": 2
}
